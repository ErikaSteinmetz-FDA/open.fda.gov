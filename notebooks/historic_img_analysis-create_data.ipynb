{
 "cells": [
  {
   "cell_type": "markdown",
   "metadata": {},
   "source": [
    "# Historical Document Analysis "
   ]
  },
  {
   "cell_type": "code",
   "execution_count": 1,
   "metadata": {},
   "outputs": [],
   "source": [
    "import sys \n",
    "import os \n",
    "import glob\n",
    "import pandas as pd\n",
    "import numpy as np\n",
    "import json"
   ]
  },
  {
   "cell_type": "code",
   "execution_count": 2,
   "metadata": {},
   "outputs": [],
   "source": [
    "ppath = '/Users/josh.smitherman/Documents/openFDA/historic_docs/openFDAHistImg/img/pickle_files/fda_press_release_archive/'"
   ]
  },
  {
   "cell_type": "code",
   "execution_count": 3,
   "metadata": {},
   "outputs": [],
   "source": [
    "pkl_files = glob.glob(ppath+'*.pkl')"
   ]
  },
  {
   "cell_type": "code",
   "execution_count": 4,
   "metadata": {},
   "outputs": [],
   "source": [
    "df_main = pd.DataFrame(columns = ['page_num', 'block_num', 'line_num', 'use_word', 'file_name'])"
   ]
  },
  {
   "cell_type": "code",
   "execution_count": 5,
   "metadata": {},
   "outputs": [],
   "source": [
    "for i in pkl_files:\n",
    "    df = pd.read_pickle(i)\n",
    "    df_main = df_main.append(df)"
   ]
  },
  {
   "cell_type": "code",
   "execution_count": 6,
   "metadata": {},
   "outputs": [
    {
     "data": {
      "text/plain": [
       "(481554, 5)"
      ]
     },
     "execution_count": 6,
     "metadata": {},
     "output_type": "execute_result"
    }
   ],
   "source": [
    "df_main.shape"
   ]
  },
  {
   "cell_type": "code",
   "execution_count": 7,
   "metadata": {},
   "outputs": [],
   "source": [
    "df_main['use_word_c'] = df_main['use_word'].str.lower()\n",
    "df_main['pub_year'] = df_main['file_name'].str[-8:].str.replace('.pdf','').astype(int)"
   ]
  },
  {
   "cell_type": "code",
   "execution_count": 8,
   "metadata": {},
   "outputs": [],
   "source": [
    "decade = df_main.groupby('pub_year').agg({'file_name':'nunique'}).reset_index()\n",
    "decade_lst = []\n",
    "for index, row in decade.iterrows():\n",
    "    year = row['pub_year']\n",
    "    d = year - (year%10)\n",
    "    decade_lst.append(d)\n",
    "    \n",
    "decade['decade'] = decade_lst"
   ]
  },
  {
   "cell_type": "code",
   "execution_count": 9,
   "metadata": {},
   "outputs": [],
   "source": [
    "df_main = df_main.merge(decade[['pub_year','decade']], on = 'pub_year', how = 'left')"
   ]
  },
  {
   "cell_type": "code",
   "execution_count": 10,
   "metadata": {},
   "outputs": [
    {
     "data": {
      "text/html": [
       "<div>\n",
       "<style scoped>\n",
       "    .dataframe tbody tr th:only-of-type {\n",
       "        vertical-align: middle;\n",
       "    }\n",
       "\n",
       "    .dataframe tbody tr th {\n",
       "        vertical-align: top;\n",
       "    }\n",
       "\n",
       "    .dataframe thead th {\n",
       "        text-align: right;\n",
       "    }\n",
       "</style>\n",
       "<table border=\"1\" class=\"dataframe\">\n",
       "  <thead>\n",
       "    <tr style=\"text-align: right;\">\n",
       "      <th></th>\n",
       "      <th>page_num</th>\n",
       "      <th>block_num</th>\n",
       "      <th>line_num</th>\n",
       "      <th>use_word</th>\n",
       "      <th>file_name</th>\n",
       "      <th>use_word_c</th>\n",
       "      <th>pub_year</th>\n",
       "      <th>decade</th>\n",
       "    </tr>\n",
       "  </thead>\n",
       "  <tbody>\n",
       "    <tr>\n",
       "      <th>0</th>\n",
       "      <td>0</td>\n",
       "      <td>1</td>\n",
       "      <td>1</td>\n",
       "      <td>FOOD AND DRUG ADMINISTRATION</td>\n",
       "      <td>FDA TALK PAPERS -1992.pdf</td>\n",
       "      <td>food and drug administration</td>\n",
       "      <td>1992</td>\n",
       "      <td>1990</td>\n",
       "    </tr>\n",
       "    <tr>\n",
       "      <th>1</th>\n",
       "      <td>0</td>\n",
       "      <td>1</td>\n",
       "      <td>2</td>\n",
       "      <td>U.S. Deparement of Health and Human Services</td>\n",
       "      <td>FDA TALK PAPERS -1992.pdf</td>\n",
       "      <td>u.s. deparement of health and human services</td>\n",
       "      <td>1992</td>\n",
       "      <td>1990</td>\n",
       "    </tr>\n",
       "    <tr>\n",
       "      <th>2</th>\n",
       "      <td>0</td>\n",
       "      <td>1</td>\n",
       "      <td>3</td>\n",
       "      <td>Public Health Service 5600 Fishers Lane Rockvi...</td>\n",
       "      <td>FDA TALK PAPERS -1992.pdf</td>\n",
       "      <td>public health service 5600 fishers lane rockvi...</td>\n",
       "      <td>1992</td>\n",
       "      <td>1990</td>\n",
       "    </tr>\n",
       "    <tr>\n",
       "      <th>3</th>\n",
       "      <td>0</td>\n",
       "      <td>3</td>\n",
       "      <td>1</td>\n",
       "      <td>“TALK PAPER</td>\n",
       "      <td>FDA TALK PAPERS -1992.pdf</td>\n",
       "      <td>“talk paper</td>\n",
       "      <td>1992</td>\n",
       "      <td>1990</td>\n",
       "    </tr>\n",
       "    <tr>\n",
       "      <th>4</th>\n",
       "      <td>0</td>\n",
       "      <td>4</td>\n",
       "      <td>1</td>\n",
       "      <td>\\</td>\n",
       "      <td>FDA TALK PAPERS -1992.pdf</td>\n",
       "      <td>\\</td>\n",
       "      <td>1992</td>\n",
       "      <td>1990</td>\n",
       "    </tr>\n",
       "  </tbody>\n",
       "</table>\n",
       "</div>"
      ],
      "text/plain": [
       "  page_num block_num line_num  \\\n",
       "0        0         1        1   \n",
       "1        0         1        2   \n",
       "2        0         1        3   \n",
       "3        0         3        1   \n",
       "4        0         4        1   \n",
       "\n",
       "                                            use_word  \\\n",
       "0                       FOOD AND DRUG ADMINISTRATION   \n",
       "1       U.S. Deparement of Health and Human Services   \n",
       "2  Public Health Service 5600 Fishers Lane Rockvi...   \n",
       "3                                        “TALK PAPER   \n",
       "4                                                  \\   \n",
       "\n",
       "                   file_name  \\\n",
       "0  FDA TALK PAPERS -1992.pdf   \n",
       "1  FDA TALK PAPERS -1992.pdf   \n",
       "2  FDA TALK PAPERS -1992.pdf   \n",
       "3  FDA TALK PAPERS -1992.pdf   \n",
       "4  FDA TALK PAPERS -1992.pdf   \n",
       "\n",
       "                                          use_word_c  pub_year  decade  \n",
       "0                       food and drug administration      1992    1990  \n",
       "1       u.s. deparement of health and human services      1992    1990  \n",
       "2  public health service 5600 fishers lane rockvi...      1992    1990  \n",
       "3                                        “talk paper      1992    1990  \n",
       "4                                                  \\      1992    1990  "
      ]
     },
     "execution_count": 10,
     "metadata": {},
     "output_type": "execute_result"
    }
   ],
   "source": [
    "df_main.head()"
   ]
  },
  {
   "cell_type": "markdown",
   "metadata": {},
   "source": [
    "## Adverse Events openFDA"
   ]
  },
  {
   "cell_type": "code",
   "execution_count": 11,
   "metadata": {},
   "outputs": [],
   "source": [
    "from requests import request\n",
    "import json\n",
    "from pandas.io.json import json_normalize"
   ]
  },
  {
   "cell_type": "code",
   "execution_count": 12,
   "metadata": {},
   "outputs": [],
   "source": [
    "path1 = 'https://api.fda.gov/drug/event.json?search=patient.drug.openfda.pharm_class_epc:\"nonsteroidal+anti-inflammatory+drug\"&count=patient.reaction.reactionmeddrapt.exact'\n",
    "response=request(url=path1, method='get')\n",
    "elevations = response.json()\n",
    "drugAE = json_normalize(elevations['results'])\n",
    "drugAE['endpoint'] = 'drug'"
   ]
  },
  {
   "cell_type": "code",
   "execution_count": 13,
   "metadata": {},
   "outputs": [],
   "source": [
    "path1 = 'https://api.fda.gov/animalandveterinary/event.json?count=reaction.veddra_term_name.exact'\n",
    "response=request(url=path1, method='get')\n",
    "elevations = response.json()\n",
    "animalandveterinaryAE = json_normalize(elevations['results'])\n",
    "animalandveterinaryAE['endpoint'] = 'animal_veterinary'"
   ]
  },
  {
   "cell_type": "code",
   "execution_count": 14,
   "metadata": {},
   "outputs": [],
   "source": [
    "path1 = 'https://api.fda.gov/food/event.json?count=reactions.exact'\n",
    "response=request(url=path1, method='get')\n",
    "elevations = response.json()\n",
    "foodAE = json_normalize(elevations['results'])\n",
    "foodAE['endpoint'] = 'food'"
   ]
  },
  {
   "cell_type": "code",
   "execution_count": 15,
   "metadata": {},
   "outputs": [],
   "source": [
    "ae_df = pd.concat([drugAE,animalandveterinaryAE, foodAE])"
   ]
  },
  {
   "cell_type": "code",
   "execution_count": 16,
   "metadata": {},
   "outputs": [],
   "source": [
    "ae_df['term_c'] = ae_df['term'].str.lower()"
   ]
  },
  {
   "cell_type": "code",
   "execution_count": 17,
   "metadata": {},
   "outputs": [
    {
     "data": {
      "text/html": [
       "<div>\n",
       "<style scoped>\n",
       "    .dataframe tbody tr th:only-of-type {\n",
       "        vertical-align: middle;\n",
       "    }\n",
       "\n",
       "    .dataframe tbody tr th {\n",
       "        vertical-align: top;\n",
       "    }\n",
       "\n",
       "    .dataframe thead th {\n",
       "        text-align: right;\n",
       "    }\n",
       "</style>\n",
       "<table border=\"1\" class=\"dataframe\">\n",
       "  <thead>\n",
       "    <tr style=\"text-align: right;\">\n",
       "      <th></th>\n",
       "      <th>count</th>\n",
       "      <th>term</th>\n",
       "      <th>endpoint</th>\n",
       "      <th>term_c</th>\n",
       "    </tr>\n",
       "  </thead>\n",
       "  <tbody>\n",
       "    <tr>\n",
       "      <th>0</th>\n",
       "      <td>325</td>\n",
       "      <td>NAUSEA</td>\n",
       "      <td>drug</td>\n",
       "      <td>nausea</td>\n",
       "    </tr>\n",
       "    <tr>\n",
       "      <th>1</th>\n",
       "      <td>277</td>\n",
       "      <td>DYSPNOEA</td>\n",
       "      <td>drug</td>\n",
       "      <td>dyspnoea</td>\n",
       "    </tr>\n",
       "    <tr>\n",
       "      <th>2</th>\n",
       "      <td>258</td>\n",
       "      <td>DIZZINESS</td>\n",
       "      <td>drug</td>\n",
       "      <td>dizziness</td>\n",
       "    </tr>\n",
       "    <tr>\n",
       "      <th>3</th>\n",
       "      <td>258</td>\n",
       "      <td>FATIGUE</td>\n",
       "      <td>drug</td>\n",
       "      <td>fatigue</td>\n",
       "    </tr>\n",
       "    <tr>\n",
       "      <th>4</th>\n",
       "      <td>242</td>\n",
       "      <td>MYOCARDIAL INFARCTION</td>\n",
       "      <td>drug</td>\n",
       "      <td>myocardial infarction</td>\n",
       "    </tr>\n",
       "  </tbody>\n",
       "</table>\n",
       "</div>"
      ],
      "text/plain": [
       "   count                   term endpoint                 term_c\n",
       "0    325                 NAUSEA     drug                 nausea\n",
       "1    277               DYSPNOEA     drug               dyspnoea\n",
       "2    258              DIZZINESS     drug              dizziness\n",
       "3    258                FATIGUE     drug                fatigue\n",
       "4    242  MYOCARDIAL INFARCTION     drug  myocardial infarction"
      ]
     },
     "execution_count": 17,
     "metadata": {},
     "output_type": "execute_result"
    }
   ],
   "source": [
    "ae_df.head()"
   ]
  },
  {
   "cell_type": "markdown",
   "metadata": {},
   "source": [
    "## AE Mapping to Docs"
   ]
  },
  {
   "cell_type": "code",
   "execution_count": 18,
   "metadata": {},
   "outputs": [],
   "source": [
    "ae_docDF = pd.DataFrame(columns = ['page_num','block_num','line_num','pub_year','file_name','decade','ae','endpoint'])"
   ]
  },
  {
   "cell_type": "code",
   "execution_count": 19,
   "metadata": {},
   "outputs": [
    {
     "name": "stdout",
     "output_type": "stream",
     "text": [
      "nausea\n",
      "dyspnoea\n",
      "dizziness\n",
      "fatigue\n",
      "myocardial infarction\n",
      "vomiting\n",
      "diarrhoea\n",
      "depression\n",
      "headache\n",
      "pyrexia\n",
      "cerebrovascular accident\n",
      "drug ineffective\n",
      "fall\n",
      "asthenia\n",
      "chest pain\n",
      "weight decreased\n",
      "arthralgia\n",
      "blood glucose increased\n",
      "hypotension\n",
      "anaemia\n",
      "pneumonia\n",
      "somnolence\n",
      "pain\n",
      "oedema peripheral\n",
      "anxiety\n",
      "drug interaction\n",
      "hypertension\n",
      "malaise\n",
      "osteonecrosis\n",
      "renal failure acute\n",
      "abdominal pain\n",
      "weight increased\n",
      "insomnia\n",
      "pain in extremity\n",
      "dehydration\n",
      "rash\n",
      "myalgia\n",
      "constipation\n",
      "confusional state\n",
      "renal failure\n",
      "back pain\n",
      "haemoglobin decreased\n",
      "atrial fibrillation\n",
      "loss of consciousness\n",
      "pruritus\n",
      "cough\n",
      "cardiac failure congestive\n",
      "hypoaesthesia\n",
      "hyperhidrosis\n",
      "abdominal pain upper\n",
      "hypersensitivity\n",
      "blood creatinine increased\n",
      "death\n",
      "urinary tract infection\n",
      "vision blurred\n",
      "chills\n",
      "thrombocytopenia\n",
      "alanine aminotransferase increased\n",
      "sepsis\n",
      "transient ischaemic attack\n",
      "condition aggravated\n",
      "decreased appetite\n",
      "muscular weakness\n",
      "tremor\n",
      "blood pressure increased\n",
      "aspartate aminotransferase increased\n",
      "gait disturbance\n",
      "cardiovascular disorder\n",
      "anorexia\n",
      "gastrointestinal haemorrhage\n",
      "feeling abnormal\n",
      "syncope\n",
      "contusion\n",
      "paraesthesia\n",
      "pulmonary embolism\n",
      "dyspepsia\n",
      "overdose\n",
      "tachycardia\n",
      "convulsion\n",
      "muscle spasms\n",
      "cardiac arrest\n",
      "erythema\n",
      "palpitations\n",
      "amnesia\n",
      "chest discomfort\n",
      "electrocardiogram qt prolonged\n",
      "pleural effusion\n",
      "osteomyelitis\n",
      "blood pressure decreased\n",
      "blood glucose decreased\n",
      "arrhythmia\n",
      "injection site bruising\n",
      "platelet count decreased\n",
      "white blood cell count decreased\n",
      "hyponatraemia\n",
      "respiratory failure\n",
      "urticaria\n",
      "cellulitis\n",
      "haemorrhage\n",
      "pulmonary oedema\n",
      "vomiting\n",
      "ineffective, heartworm larvae\n",
      "emesis\n",
      "lethargy (see also central nervous system depression in 'neurological')\n"
     ]
    },
    {
     "name": "stderr",
     "output_type": "stream",
     "text": [
      "/Users/josh.smitherman/anaconda3/lib/python3.7/site-packages/ipykernel_launcher.py:4: UserWarning: This pattern has match groups. To actually get the groups, use str.extract.\n",
      "  after removing the cwd from sys.path.\n"
     ]
    },
    {
     "name": "stdout",
     "output_type": "stream",
     "text": [
      "diarrhoea\n",
      "anorexia\n",
      "lack of efficacy\n",
      "depression\n",
      "ineffective, hooks\n",
      "death\n",
      "ineffective, fleas\n",
      "accidental exposure\n",
      "ataxia\n",
      "pruritus\n",
      "digestive tract disorder nos\n",
      "death by euthanasia\n",
      "elevated alt\n",
      "ineffective, ascarids\n",
      "unpalatable\n",
      "elevated sap\n",
      "behavioural disorder nos\n",
      "seizure nos\n",
      "product problem\n",
      "lack of efficacy (heartworm)\n",
      "weight loss\n",
      "fever\n",
      "abnormal test result\n",
      "lack of efficacy (flea)\n",
      "hypersalivation\n",
      "elevated bun\n",
      "tablets, abnormal\n",
      "convulsion\n",
      "cardiac disorder nos\n",
      "no sign\n",
      "trembling\n",
      "elevated creatinine\n",
      "bloody diarrhoea\n",
      "anaemia nos\n",
      "polydipsia\n",
      "uncoded sign\n",
      "emesis (multiple)\n",
      "decreased appetite\n",
      "vocalisation\n",
      "unclassifiable adverse event\n",
      "shaking\n",
      "not eating\n",
      "panting\n",
      "color, abnormal\n",
      "application site alopecia\n",
      "leucocytosis\n",
      "elevated total bilirubin\n",
      "overdose\n",
      "anaphylaxis\n",
      "product defect, general\n",
      "weakness\n",
      "hyperactivity\n",
      "underfilling, package\n",
      "loose stool\n",
      "polyuria\n",
      "abnormal radiograph finding\n",
      "containers, damaged\n",
      "elevated liver enzymes\n",
      "dehydration\n",
      "ineffective, whips\n",
      "restlessness\n",
      "dyspnoea\n",
      "itching\n",
      "lack of efficacy (tick)\n",
      "cough\n",
      "inappetence\n",
      "recumbency\n",
      "underdose\n",
      "pale mucous membrane\n",
      "thrombocytopenia\n",
      "injection site swelling\n",
      "pain nos\n",
      "urticaria\n",
      "abdominal pain\n",
      "polypnoea\n",
      "lack of efficacy (roundworm)\n",
      "hyperphosphataemia\n",
      "underfilling, tubes\n",
      "ineffective, antibiotic\n",
      "tachycardia\n",
      "vials, leaking\n",
      "hyperglycaemia\n",
      "hypoalbuminaemia\n",
      "collapse\n",
      "deafness\n",
      "icterus\n",
      "weight gain\n",
      "ineffective, coccidia\n",
      "twitching\n",
      "skin lesion nos\n",
      "abnormal ultrasound finding\n",
      "facial swelling (see also 'skin')\n",
      "neutrophilia\n",
      "facial oedema\n",
      "hives (see also 'skin')\n",
      "suspension, abnormal\n",
      "diarrhoea\n",
      "vomiting\n",
      "ovarian cancer\n",
      "nausea\n",
      "abdominal pain\n",
      "malaise\n",
      "choking\n",
      "headache\n",
      "hypersensitivity\n",
      "death\n",
      "abdominal pain upper\n",
      "dyspnoea\n",
      "dizziness\n",
      "pruritus\n",
      "pain\n",
      "rash\n",
      "alopecia\n",
      "burning sensation\n",
      "dysphagia\n",
      "fatigue\n",
      "urticaria\n",
      "injury\n",
      "erythema\n",
      "asthenia\n",
      "swelling\n",
      "blood pressure increased\n",
      "dysgeusia\n",
      "feeling of body temperature change\n",
      "body temperature increased\n",
      "heart rate increased\n",
      "chest pain\n",
      "dyspepsia\n",
      "abdominal discomfort\n",
      "paraesthesia\n",
      "dehydration\n",
      "abdominal distension\n",
      "throat irritation\n",
      "anxiety\n",
      "chills\n",
      "palpitations\n",
      "pyrexia\n",
      "foreign body trauma\n",
      "hyperhidrosis\n",
      "cough\n",
      "flatulence\n",
      "loss of consciousness\n",
      "constipation\n",
      "food poisoning\n",
      "exposure to chemical pollution\n",
      "insomnia\n",
      "convulsion\n",
      "tremor\n",
      "haematochezia\n",
      "foreign body\n",
      "decreased appetite\n",
      "gastrointestinal disorder\n",
      "hypoaesthesia\n",
      "retching\n",
      "swelling face\n",
      "feeling abnormal\n",
      "lethargy\n",
      "blister\n",
      "haemorrhage\n",
      "muscle spasms\n",
      "weight decreased\n",
      "mesothelioma\n",
      "eye swelling\n",
      "trichorrhexis\n",
      "throat tightness\n",
      "hypertension\n",
      "vision blurred\n",
      "skin irritation\n",
      "coeliac disease\n",
      "chest discomfort\n",
      "myalgia\n",
      "arthralgia\n",
      "cerebrovascular accident\n",
      "oropharyngeal pain\n",
      "myocardial infarction\n",
      "flushing\n",
      "back pain\n",
      "syncope\n",
      "lip swelling\n",
      "blood urine present\n",
      "pharyngeal oedema\n",
      "jaundice\n",
      "anaphylactic reaction\n",
      "liver function test abnormal\n",
      "skin discolouration\n",
      "feeling hot\n",
      "hospitalisation\n",
      "hair texture abnormal\n",
      "swollen tongue\n",
      "eye irritation\n",
      "tooth injury\n",
      "confusional state\n",
      "laceration\n",
      "blood glucose increased\n",
      "hepatic enzyme increased\n",
      "fall\n"
     ]
    }
   ],
   "source": [
    "for index, row in ae_df.iterrows():\n",
    "    term = row['term_c']\n",
    "    endpoint = row['endpoint']\n",
    "    df = df_main[df_main['use_word_c'].str.contains(term)]\n",
    "    df = df[['page_num', 'block_num', 'line_num','pub_year','file_name','decade']]\n",
    "    df['ae'] = term\n",
    "    df['endpoint'] = endpoint\n",
    "    ae_docDF = ae_docDF.append(df)\n",
    "    print(term)\n",
    "    "
   ]
  },
  {
   "cell_type": "code",
   "execution_count": 20,
   "metadata": {},
   "outputs": [],
   "source": [
    "ae_docDF_agg = ae_docDF.groupby(['decade','pub_year','file_name','ae','endpoint']).size().reset_index(name = 'appears_cnt')"
   ]
  },
  {
   "cell_type": "code",
   "execution_count": 21,
   "metadata": {},
   "outputs": [],
   "source": [
    "ae_docDF_agg['id'] = ae_docDF_agg.index\n",
    "ae_docDF_agg['id'] = ae_docDF_agg['id']+1"
   ]
  },
  {
   "cell_type": "code",
   "execution_count": 22,
   "metadata": {},
   "outputs": [
    {
     "data": {
      "text/html": [
       "<div>\n",
       "<style scoped>\n",
       "    .dataframe tbody tr th:only-of-type {\n",
       "        vertical-align: middle;\n",
       "    }\n",
       "\n",
       "    .dataframe tbody tr th {\n",
       "        vertical-align: top;\n",
       "    }\n",
       "\n",
       "    .dataframe thead th {\n",
       "        text-align: right;\n",
       "    }\n",
       "</style>\n",
       "<table border=\"1\" class=\"dataframe\">\n",
       "  <thead>\n",
       "    <tr style=\"text-align: right;\">\n",
       "      <th></th>\n",
       "      <th>decade</th>\n",
       "      <th>pub_year</th>\n",
       "      <th>file_name</th>\n",
       "      <th>ae</th>\n",
       "      <th>endpoint</th>\n",
       "      <th>appears_cnt</th>\n",
       "      <th>id</th>\n",
       "    </tr>\n",
       "  </thead>\n",
       "  <tbody>\n",
       "    <tr>\n",
       "      <th>0</th>\n",
       "      <td>1910</td>\n",
       "      <td>1913</td>\n",
       "      <td>FDA PRESS RELEASES - 1913.pdf</td>\n",
       "      <td>cough</td>\n",
       "      <td>animal_veterinary</td>\n",
       "      <td>1</td>\n",
       "      <td>1</td>\n",
       "    </tr>\n",
       "    <tr>\n",
       "      <th>1</th>\n",
       "      <td>1910</td>\n",
       "      <td>1913</td>\n",
       "      <td>FDA PRESS RELEASES - 1913.pdf</td>\n",
       "      <td>cough</td>\n",
       "      <td>drug</td>\n",
       "      <td>1</td>\n",
       "      <td>2</td>\n",
       "    </tr>\n",
       "    <tr>\n",
       "      <th>2</th>\n",
       "      <td>1910</td>\n",
       "      <td>1913</td>\n",
       "      <td>FDA PRESS RELEASES - 1913.pdf</td>\n",
       "      <td>cough</td>\n",
       "      <td>food</td>\n",
       "      <td>1</td>\n",
       "      <td>3</td>\n",
       "    </tr>\n",
       "    <tr>\n",
       "      <th>3</th>\n",
       "      <td>1910</td>\n",
       "      <td>1913</td>\n",
       "      <td>FDA PRESS RELEASES - 1913.pdf</td>\n",
       "      <td>death</td>\n",
       "      <td>animal_veterinary</td>\n",
       "      <td>7</td>\n",
       "      <td>4</td>\n",
       "    </tr>\n",
       "    <tr>\n",
       "      <th>4</th>\n",
       "      <td>1910</td>\n",
       "      <td>1913</td>\n",
       "      <td>FDA PRESS RELEASES - 1913.pdf</td>\n",
       "      <td>death</td>\n",
       "      <td>drug</td>\n",
       "      <td>7</td>\n",
       "      <td>5</td>\n",
       "    </tr>\n",
       "  </tbody>\n",
       "</table>\n",
       "</div>"
      ],
      "text/plain": [
       "   decade  pub_year                      file_name     ae           endpoint  \\\n",
       "0    1910      1913  FDA PRESS RELEASES - 1913.pdf  cough  animal_veterinary   \n",
       "1    1910      1913  FDA PRESS RELEASES - 1913.pdf  cough               drug   \n",
       "2    1910      1913  FDA PRESS RELEASES - 1913.pdf  cough               food   \n",
       "3    1910      1913  FDA PRESS RELEASES - 1913.pdf  death  animal_veterinary   \n",
       "4    1910      1913  FDA PRESS RELEASES - 1913.pdf  death               drug   \n",
       "\n",
       "   appears_cnt  id  \n",
       "0            1   1  \n",
       "1            1   2  \n",
       "2            1   3  \n",
       "3            7   4  \n",
       "4            7   5  "
      ]
     },
     "execution_count": 22,
     "metadata": {},
     "output_type": "execute_result"
    }
   ],
   "source": [
    "ae_docDF_agg.head()"
   ]
  },
  {
   "cell_type": "code",
   "execution_count": 23,
   "metadata": {},
   "outputs": [],
   "source": [
    "ae_agg = ae_docDF_agg.groupby(['endpoint','ae']).agg({'file_name':'count',\n",
    "                                                      'appears_cnt':'sum'}).reset_index()\n",
    "ae_agg.columns = ['endpoint','ae','num_docs','appears_cnt']\n",
    "ae = ae_docDF_agg.groupby(['ae','file_name']).size().reset_index(name = 'cnt')\n",
    "ae = ae.groupby(['ae']).size().reset_index(name = 'num_docs')\n",
    "ae = ae.sort_values('ae',ascending = 'True')\n",
    "ae['ae_text'] = ae['ae']+' ('+ae['num_docs'].astype(str)+')'\n",
    "ae['id'] = ae.index+1"
   ]
  },
  {
   "cell_type": "code",
   "execution_count": 24,
   "metadata": {},
   "outputs": [
    {
     "data": {
      "text/html": [
       "<div>\n",
       "<style scoped>\n",
       "    .dataframe tbody tr th:only-of-type {\n",
       "        vertical-align: middle;\n",
       "    }\n",
       "\n",
       "    .dataframe tbody tr th {\n",
       "        vertical-align: top;\n",
       "    }\n",
       "\n",
       "    .dataframe thead th {\n",
       "        text-align: right;\n",
       "    }\n",
       "</style>\n",
       "<table border=\"1\" class=\"dataframe\">\n",
       "  <thead>\n",
       "    <tr style=\"text-align: right;\">\n",
       "      <th></th>\n",
       "      <th>ae</th>\n",
       "      <th>num_docs</th>\n",
       "      <th>ae_text</th>\n",
       "      <th>id</th>\n",
       "    </tr>\n",
       "  </thead>\n",
       "  <tbody>\n",
       "    <tr>\n",
       "      <th>0</th>\n",
       "      <td>abdominal discomfort</td>\n",
       "      <td>12</td>\n",
       "      <td>abdominal discomfort (12)</td>\n",
       "      <td>1</td>\n",
       "    </tr>\n",
       "    <tr>\n",
       "      <th>1</th>\n",
       "      <td>abdominal distension</td>\n",
       "      <td>5</td>\n",
       "      <td>abdominal distension (5)</td>\n",
       "      <td>2</td>\n",
       "    </tr>\n",
       "    <tr>\n",
       "      <th>2</th>\n",
       "      <td>abdominal pain</td>\n",
       "      <td>49</td>\n",
       "      <td>abdominal pain (49)</td>\n",
       "      <td>3</td>\n",
       "    </tr>\n",
       "    <tr>\n",
       "      <th>3</th>\n",
       "      <td>abnormal test result</td>\n",
       "      <td>1</td>\n",
       "      <td>abnormal test result (1)</td>\n",
       "      <td>4</td>\n",
       "    </tr>\n",
       "    <tr>\n",
       "      <th>4</th>\n",
       "      <td>accidental exposure</td>\n",
       "      <td>7</td>\n",
       "      <td>accidental exposure (7)</td>\n",
       "      <td>5</td>\n",
       "    </tr>\n",
       "    <tr>\n",
       "      <th>5</th>\n",
       "      <td>alopecia</td>\n",
       "      <td>6</td>\n",
       "      <td>alopecia (6)</td>\n",
       "      <td>6</td>\n",
       "    </tr>\n",
       "    <tr>\n",
       "      <th>6</th>\n",
       "      <td>amnesia</td>\n",
       "      <td>3</td>\n",
       "      <td>amnesia (3)</td>\n",
       "      <td>7</td>\n",
       "    </tr>\n",
       "    <tr>\n",
       "      <th>7</th>\n",
       "      <td>anaphylaxis</td>\n",
       "      <td>14</td>\n",
       "      <td>anaphylaxis (14)</td>\n",
       "      <td>8</td>\n",
       "    </tr>\n",
       "    <tr>\n",
       "      <th>8</th>\n",
       "      <td>anorexia</td>\n",
       "      <td>13</td>\n",
       "      <td>anorexia (13)</td>\n",
       "      <td>9</td>\n",
       "    </tr>\n",
       "    <tr>\n",
       "      <th>9</th>\n",
       "      <td>anxiety</td>\n",
       "      <td>40</td>\n",
       "      <td>anxiety (40)</td>\n",
       "      <td>10</td>\n",
       "    </tr>\n",
       "    <tr>\n",
       "      <th>10</th>\n",
       "      <td>arrhythmia</td>\n",
       "      <td>31</td>\n",
       "      <td>arrhythmia (31)</td>\n",
       "      <td>11</td>\n",
       "    </tr>\n",
       "    <tr>\n",
       "      <th>11</th>\n",
       "      <td>arthralgia</td>\n",
       "      <td>7</td>\n",
       "      <td>arthralgia (7)</td>\n",
       "      <td>12</td>\n",
       "    </tr>\n",
       "    <tr>\n",
       "      <th>12</th>\n",
       "      <td>asthenia</td>\n",
       "      <td>16</td>\n",
       "      <td>asthenia (16)</td>\n",
       "      <td>13</td>\n",
       "    </tr>\n",
       "    <tr>\n",
       "      <th>13</th>\n",
       "      <td>ataxia</td>\n",
       "      <td>5</td>\n",
       "      <td>ataxia (5)</td>\n",
       "      <td>14</td>\n",
       "    </tr>\n",
       "    <tr>\n",
       "      <th>14</th>\n",
       "      <td>atrial fibrillation</td>\n",
       "      <td>6</td>\n",
       "      <td>atrial fibrillation (6)</td>\n",
       "      <td>15</td>\n",
       "    </tr>\n",
       "    <tr>\n",
       "      <th>15</th>\n",
       "      <td>back pain</td>\n",
       "      <td>16</td>\n",
       "      <td>back pain (16)</td>\n",
       "      <td>16</td>\n",
       "    </tr>\n",
       "    <tr>\n",
       "      <th>16</th>\n",
       "      <td>blister</td>\n",
       "      <td>37</td>\n",
       "      <td>blister (37)</td>\n",
       "      <td>17</td>\n",
       "    </tr>\n",
       "    <tr>\n",
       "      <th>17</th>\n",
       "      <td>burning sensation</td>\n",
       "      <td>8</td>\n",
       "      <td>burning sensation (8)</td>\n",
       "      <td>18</td>\n",
       "    </tr>\n",
       "    <tr>\n",
       "      <th>18</th>\n",
       "      <td>cardiac arrest</td>\n",
       "      <td>21</td>\n",
       "      <td>cardiac arrest (21)</td>\n",
       "      <td>19</td>\n",
       "    </tr>\n",
       "    <tr>\n",
       "      <th>19</th>\n",
       "      <td>cardiovascular disorder</td>\n",
       "      <td>4</td>\n",
       "      <td>cardiovascular disorder (4)</td>\n",
       "      <td>20</td>\n",
       "    </tr>\n",
       "    <tr>\n",
       "      <th>20</th>\n",
       "      <td>cerebrovascular accident</td>\n",
       "      <td>1</td>\n",
       "      <td>cerebrovascular accident (1)</td>\n",
       "      <td>21</td>\n",
       "    </tr>\n",
       "    <tr>\n",
       "      <th>21</th>\n",
       "      <td>chest discomfort</td>\n",
       "      <td>2</td>\n",
       "      <td>chest discomfort (2)</td>\n",
       "      <td>22</td>\n",
       "    </tr>\n",
       "    <tr>\n",
       "      <th>22</th>\n",
       "      <td>chest pain</td>\n",
       "      <td>24</td>\n",
       "      <td>chest pain (24)</td>\n",
       "      <td>23</td>\n",
       "    </tr>\n",
       "    <tr>\n",
       "      <th>23</th>\n",
       "      <td>chills</td>\n",
       "      <td>37</td>\n",
       "      <td>chills (37)</td>\n",
       "      <td>24</td>\n",
       "    </tr>\n",
       "    <tr>\n",
       "      <th>24</th>\n",
       "      <td>choking</td>\n",
       "      <td>13</td>\n",
       "      <td>choking (13)</td>\n",
       "      <td>25</td>\n",
       "    </tr>\n",
       "    <tr>\n",
       "      <th>25</th>\n",
       "      <td>collapse</td>\n",
       "      <td>18</td>\n",
       "      <td>collapse (18)</td>\n",
       "      <td>26</td>\n",
       "    </tr>\n",
       "    <tr>\n",
       "      <th>26</th>\n",
       "      <td>constipation</td>\n",
       "      <td>45</td>\n",
       "      <td>constipation (45)</td>\n",
       "      <td>27</td>\n",
       "    </tr>\n",
       "    <tr>\n",
       "      <th>27</th>\n",
       "      <td>contusion</td>\n",
       "      <td>1</td>\n",
       "      <td>contusion (1)</td>\n",
       "      <td>28</td>\n",
       "    </tr>\n",
       "    <tr>\n",
       "      <th>28</th>\n",
       "      <td>convulsion</td>\n",
       "      <td>25</td>\n",
       "      <td>convulsion (25)</td>\n",
       "      <td>29</td>\n",
       "    </tr>\n",
       "    <tr>\n",
       "      <th>29</th>\n",
       "      <td>cough</td>\n",
       "      <td>81</td>\n",
       "      <td>cough (81)</td>\n",
       "      <td>30</td>\n",
       "    </tr>\n",
       "    <tr>\n",
       "      <th>...</th>\n",
       "      <td>...</td>\n",
       "      <td>...</td>\n",
       "      <td>...</td>\n",
       "      <td>...</td>\n",
       "    </tr>\n",
       "    <tr>\n",
       "      <th>87</th>\n",
       "      <td>paraesthesia</td>\n",
       "      <td>1</td>\n",
       "      <td>paraesthesia (1)</td>\n",
       "      <td>88</td>\n",
       "    </tr>\n",
       "    <tr>\n",
       "      <th>88</th>\n",
       "      <td>pneumonia</td>\n",
       "      <td>65</td>\n",
       "      <td>pneumonia (65)</td>\n",
       "      <td>89</td>\n",
       "    </tr>\n",
       "    <tr>\n",
       "      <th>89</th>\n",
       "      <td>product problem</td>\n",
       "      <td>8</td>\n",
       "      <td>product problem (8)</td>\n",
       "      <td>90</td>\n",
       "    </tr>\n",
       "    <tr>\n",
       "      <th>90</th>\n",
       "      <td>pruritus</td>\n",
       "      <td>5</td>\n",
       "      <td>pruritus (5)</td>\n",
       "      <td>91</td>\n",
       "    </tr>\n",
       "    <tr>\n",
       "      <th>91</th>\n",
       "      <td>pulmonary embolism</td>\n",
       "      <td>12</td>\n",
       "      <td>pulmonary embolism (12)</td>\n",
       "      <td>92</td>\n",
       "    </tr>\n",
       "    <tr>\n",
       "      <th>92</th>\n",
       "      <td>pyrexia</td>\n",
       "      <td>4</td>\n",
       "      <td>pyrexia (4)</td>\n",
       "      <td>93</td>\n",
       "    </tr>\n",
       "    <tr>\n",
       "      <th>93</th>\n",
       "      <td>rash</td>\n",
       "      <td>82</td>\n",
       "      <td>rash (82)</td>\n",
       "      <td>94</td>\n",
       "    </tr>\n",
       "    <tr>\n",
       "      <th>94</th>\n",
       "      <td>renal failure</td>\n",
       "      <td>10</td>\n",
       "      <td>renal failure (10)</td>\n",
       "      <td>95</td>\n",
       "    </tr>\n",
       "    <tr>\n",
       "      <th>95</th>\n",
       "      <td>respiratory failure</td>\n",
       "      <td>10</td>\n",
       "      <td>respiratory failure (10)</td>\n",
       "      <td>96</td>\n",
       "    </tr>\n",
       "    <tr>\n",
       "      <th>96</th>\n",
       "      <td>restlessness</td>\n",
       "      <td>14</td>\n",
       "      <td>restlessness (14)</td>\n",
       "      <td>97</td>\n",
       "    </tr>\n",
       "    <tr>\n",
       "      <th>97</th>\n",
       "      <td>retching</td>\n",
       "      <td>5</td>\n",
       "      <td>retching (5)</td>\n",
       "      <td>98</td>\n",
       "    </tr>\n",
       "    <tr>\n",
       "      <th>98</th>\n",
       "      <td>sepsis</td>\n",
       "      <td>20</td>\n",
       "      <td>sepsis (20)</td>\n",
       "      <td>99</td>\n",
       "    </tr>\n",
       "    <tr>\n",
       "      <th>99</th>\n",
       "      <td>shaking</td>\n",
       "      <td>15</td>\n",
       "      <td>shaking (15)</td>\n",
       "      <td>100</td>\n",
       "    </tr>\n",
       "    <tr>\n",
       "      <th>100</th>\n",
       "      <td>skin irritation</td>\n",
       "      <td>21</td>\n",
       "      <td>skin irritation (21)</td>\n",
       "      <td>101</td>\n",
       "    </tr>\n",
       "    <tr>\n",
       "      <th>101</th>\n",
       "      <td>somnolence</td>\n",
       "      <td>7</td>\n",
       "      <td>somnolence (7)</td>\n",
       "      <td>102</td>\n",
       "    </tr>\n",
       "    <tr>\n",
       "      <th>102</th>\n",
       "      <td>swelling</td>\n",
       "      <td>68</td>\n",
       "      <td>swelling (68)</td>\n",
       "      <td>103</td>\n",
       "    </tr>\n",
       "    <tr>\n",
       "      <th>103</th>\n",
       "      <td>syncope</td>\n",
       "      <td>3</td>\n",
       "      <td>syncope (3)</td>\n",
       "      <td>104</td>\n",
       "    </tr>\n",
       "    <tr>\n",
       "      <th>104</th>\n",
       "      <td>tachycardia</td>\n",
       "      <td>11</td>\n",
       "      <td>tachycardia (11)</td>\n",
       "      <td>105</td>\n",
       "    </tr>\n",
       "    <tr>\n",
       "      <th>105</th>\n",
       "      <td>throat irritation</td>\n",
       "      <td>3</td>\n",
       "      <td>throat irritation (3)</td>\n",
       "      <td>106</td>\n",
       "    </tr>\n",
       "    <tr>\n",
       "      <th>106</th>\n",
       "      <td>thrombocytopenia</td>\n",
       "      <td>15</td>\n",
       "      <td>thrombocytopenia (15)</td>\n",
       "      <td>107</td>\n",
       "    </tr>\n",
       "    <tr>\n",
       "      <th>107</th>\n",
       "      <td>trembling</td>\n",
       "      <td>5</td>\n",
       "      <td>trembling (5)</td>\n",
       "      <td>108</td>\n",
       "    </tr>\n",
       "    <tr>\n",
       "      <th>108</th>\n",
       "      <td>tremor</td>\n",
       "      <td>22</td>\n",
       "      <td>tremor (22)</td>\n",
       "      <td>109</td>\n",
       "    </tr>\n",
       "    <tr>\n",
       "      <th>109</th>\n",
       "      <td>twitching</td>\n",
       "      <td>1</td>\n",
       "      <td>twitching (1)</td>\n",
       "      <td>110</td>\n",
       "    </tr>\n",
       "    <tr>\n",
       "      <th>110</th>\n",
       "      <td>unpalatable</td>\n",
       "      <td>2</td>\n",
       "      <td>unpalatable (2)</td>\n",
       "      <td>111</td>\n",
       "    </tr>\n",
       "    <tr>\n",
       "      <th>111</th>\n",
       "      <td>urinary tract infection</td>\n",
       "      <td>17</td>\n",
       "      <td>urinary tract infection (17)</td>\n",
       "      <td>112</td>\n",
       "    </tr>\n",
       "    <tr>\n",
       "      <th>112</th>\n",
       "      <td>vomiting</td>\n",
       "      <td>81</td>\n",
       "      <td>vomiting (81)</td>\n",
       "      <td>113</td>\n",
       "    </tr>\n",
       "    <tr>\n",
       "      <th>113</th>\n",
       "      <td>weakness</td>\n",
       "      <td>65</td>\n",
       "      <td>weakness (65)</td>\n",
       "      <td>114</td>\n",
       "    </tr>\n",
       "    <tr>\n",
       "      <th>114</th>\n",
       "      <td>weight gain</td>\n",
       "      <td>26</td>\n",
       "      <td>weight gain (26)</td>\n",
       "      <td>115</td>\n",
       "    </tr>\n",
       "    <tr>\n",
       "      <th>115</th>\n",
       "      <td>weight increased</td>\n",
       "      <td>1</td>\n",
       "      <td>weight increased (1)</td>\n",
       "      <td>116</td>\n",
       "    </tr>\n",
       "    <tr>\n",
       "      <th>116</th>\n",
       "      <td>weight loss</td>\n",
       "      <td>51</td>\n",
       "      <td>weight loss (51)</td>\n",
       "      <td>117</td>\n",
       "    </tr>\n",
       "  </tbody>\n",
       "</table>\n",
       "<p>117 rows × 4 columns</p>\n",
       "</div>"
      ],
      "text/plain": [
       "                           ae  num_docs                       ae_text   id\n",
       "0        abdominal discomfort        12     abdominal discomfort (12)    1\n",
       "1        abdominal distension         5      abdominal distension (5)    2\n",
       "2              abdominal pain        49           abdominal pain (49)    3\n",
       "3        abnormal test result         1      abnormal test result (1)    4\n",
       "4         accidental exposure         7       accidental exposure (7)    5\n",
       "5                    alopecia         6                  alopecia (6)    6\n",
       "6                     amnesia         3                   amnesia (3)    7\n",
       "7                 anaphylaxis        14              anaphylaxis (14)    8\n",
       "8                    anorexia        13                 anorexia (13)    9\n",
       "9                     anxiety        40                  anxiety (40)   10\n",
       "10                 arrhythmia        31               arrhythmia (31)   11\n",
       "11                 arthralgia         7                arthralgia (7)   12\n",
       "12                   asthenia        16                 asthenia (16)   13\n",
       "13                     ataxia         5                    ataxia (5)   14\n",
       "14        atrial fibrillation         6       atrial fibrillation (6)   15\n",
       "15                  back pain        16                back pain (16)   16\n",
       "16                    blister        37                  blister (37)   17\n",
       "17          burning sensation         8         burning sensation (8)   18\n",
       "18             cardiac arrest        21           cardiac arrest (21)   19\n",
       "19    cardiovascular disorder         4   cardiovascular disorder (4)   20\n",
       "20   cerebrovascular accident         1  cerebrovascular accident (1)   21\n",
       "21           chest discomfort         2          chest discomfort (2)   22\n",
       "22                 chest pain        24               chest pain (24)   23\n",
       "23                     chills        37                   chills (37)   24\n",
       "24                    choking        13                  choking (13)   25\n",
       "25                   collapse        18                 collapse (18)   26\n",
       "26               constipation        45             constipation (45)   27\n",
       "27                  contusion         1                 contusion (1)   28\n",
       "28                 convulsion        25               convulsion (25)   29\n",
       "29                      cough        81                    cough (81)   30\n",
       "..                        ...       ...                           ...  ...\n",
       "87               paraesthesia         1              paraesthesia (1)   88\n",
       "88                  pneumonia        65                pneumonia (65)   89\n",
       "89            product problem         8           product problem (8)   90\n",
       "90                   pruritus         5                  pruritus (5)   91\n",
       "91         pulmonary embolism        12       pulmonary embolism (12)   92\n",
       "92                    pyrexia         4                   pyrexia (4)   93\n",
       "93                       rash        82                     rash (82)   94\n",
       "94              renal failure        10            renal failure (10)   95\n",
       "95        respiratory failure        10      respiratory failure (10)   96\n",
       "96               restlessness        14             restlessness (14)   97\n",
       "97                   retching         5                  retching (5)   98\n",
       "98                     sepsis        20                   sepsis (20)   99\n",
       "99                    shaking        15                  shaking (15)  100\n",
       "100           skin irritation        21          skin irritation (21)  101\n",
       "101                somnolence         7                somnolence (7)  102\n",
       "102                  swelling        68                 swelling (68)  103\n",
       "103                   syncope         3                   syncope (3)  104\n",
       "104               tachycardia        11              tachycardia (11)  105\n",
       "105         throat irritation         3         throat irritation (3)  106\n",
       "106          thrombocytopenia        15         thrombocytopenia (15)  107\n",
       "107                 trembling         5                 trembling (5)  108\n",
       "108                    tremor        22                   tremor (22)  109\n",
       "109                 twitching         1                 twitching (1)  110\n",
       "110               unpalatable         2               unpalatable (2)  111\n",
       "111   urinary tract infection        17  urinary tract infection (17)  112\n",
       "112                  vomiting        81                 vomiting (81)  113\n",
       "113                  weakness        65                 weakness (65)  114\n",
       "114               weight gain        26              weight gain (26)  115\n",
       "115          weight increased         1          weight increased (1)  116\n",
       "116               weight loss        51              weight loss (51)  117\n",
       "\n",
       "[117 rows x 4 columns]"
      ]
     },
     "execution_count": 24,
     "metadata": {},
     "output_type": "execute_result"
    }
   ],
   "source": [
    "ae"
   ]
  },
  {
   "cell_type": "code",
   "execution_count": 25,
   "metadata": {},
   "outputs": [],
   "source": [
    "ae_json = ae[['id','ae_text']]"
   ]
  },
  {
   "cell_type": "code",
   "execution_count": 26,
   "metadata": {},
   "outputs": [],
   "source": [
    "cols = ['decade', 'pub_year', 'file_name', 'ae', 'endpoint', 'appears_cnt']"
   ]
  },
  {
   "cell_type": "code",
   "execution_count": 27,
   "metadata": {},
   "outputs": [],
   "source": [
    "ae_data = ae_docDF_agg[ae_docDF_agg['endpoint']=='drug'][cols]"
   ]
  },
  {
   "cell_type": "code",
   "execution_count": 28,
   "metadata": {},
   "outputs": [],
   "source": [
    "ae_data = ae_data.merge(ae[['id','ae']], on = 'ae', how = 'left')"
   ]
  },
  {
   "cell_type": "code",
   "execution_count": 29,
   "metadata": {},
   "outputs": [],
   "source": [
    "ae_agg2 = ae_data.groupby(['endpoint','ae']).agg({'file_name':'count',\n",
    "                                                      'appears_cnt':'sum'}).reset_index()\n",
    "ae_agg2.columns = ['endpoint','ae','num_docs','appears_cnt']\n",
    "ae2 = ae_data.groupby(['ae','file_name']).size().reset_index(name = 'cnt')\n",
    "ae2 = ae2.groupby(['ae']).size().reset_index(name = 'num_docs')\n",
    "ae2 = ae2.sort_values('ae',ascending = 'True')\n",
    "ae2['ae_text'] = ae2['ae']+' ('+ae2['num_docs'].astype(str)+')'"
   ]
  },
  {
   "cell_type": "code",
   "execution_count": 30,
   "metadata": {},
   "outputs": [],
   "source": [
    "ae2 = ae2.merge(ae[['id','ae']], on = 'ae', how = 'left')"
   ]
  },
  {
   "cell_type": "code",
   "execution_count": 31,
   "metadata": {},
   "outputs": [],
   "source": [
    "ae_json = ae2[['id','ae_text']]"
   ]
  },
  {
   "cell_type": "code",
   "execution_count": null,
   "metadata": {},
   "outputs": [],
   "source": [
    "import csv\n",
    "ae_json.to_csv(r'/Users/josh.smitherman/downloads/ae_json.csv', index=None, quoting=csv.QUOTE_ALL)\n",
    "ae_json.to_json('/Users/josh.smitherman/downloads/ae_json2.json',orient='records') "
   ]
  },
  {
   "cell_type": "code",
   "execution_count": 39,
   "metadata": {},
   "outputs": [],
   "source": [
    "ae_data = ae_data.sort_values('id', ascending=True)"
   ]
  },
  {
   "cell_type": "code",
   "execution_count": 48,
   "metadata": {},
   "outputs": [],
   "source": [
    "ae_data_id = list(ae_data['id'].unique())\n",
    "myDict = {}"
   ]
  },
  {
   "cell_type": "code",
   "execution_count": 49,
   "metadata": {},
   "outputs": [],
   "source": [
    "for x in ae_data_id:\n",
    "    ae_data_f = ae_data[ae_data['id']==x]\\\n",
    "                .groupby(['decade']).agg({'file_name':'nunique','appears_cnt':'sum'}).reset_index()\n",
    "    decade = list(ae_data_f['decade'].values)\n",
    "    number_of_docs = list(ae_data_f['file_name'].values)\n",
    "    appears_cnt = list(ae_data_f['appears_cnt'].values)\n",
    "    documents = list(ae_data[ae_data['id']==x]['file_name'].unique())\n",
    "    documents.sort()\n",
    "    myDict[x] = {}\n",
    "    myDict[x]['decade'] = decade\n",
    "    myDict[x]['number_of_docs'] = number_of_docs\n",
    "    myDict[x]['appears_cnt'] = appears_cnt\n",
    "    myDict[x]['documents'] = documents"
   ]
  },
  {
   "cell_type": "code",
   "execution_count": 50,
   "metadata": {},
   "outputs": [
    {
     "data": {
      "text/plain": [
       "\"{3: {'decade': [1930, 1950, 1960, 1970, 1980, 1990, 2000, 2010], 'number_of_docs': [2, 1, 1, 7, 6, 14, 13, 5], 'appears_cnt': [2, 1, 2, 7, 6, 41, 88, 75], 'documents': ['FDA PRESS RELEASES - 1936.pdf', 'FDA PRESS RELEASES - 1937.pdf', 'FDA PRESS RELEASES - 1953.pdf', 'FDA PRESS RELEASES - 1965.pdf', 'FDA PRESS RELEASES - 1972.pdf', 'FDA PRESS RELEASES - 1973.pdf', 'FDA PRESS RELEASES - 1975.pdf', 'FDA PRESS RELEASES - 1976.pdf', 'FDA PRESS RELEASES - 1977.pdf', 'FDA PRESS RELEASES - 1980.pdf', 'FDA PRESS RELEASES - 1986.pdf', 'FDA PRESS RELEASES - 1989.pdf', 'FDA PRESS RELEASES - 1992.pdf', 'FDA PRESS RELEASES - 1993.pdf', 'FDA PRESS RELEASES - 1994.pdf', 'FDA PRESS RELEASES - 1995.pdf', 'FDA PRESS RELEASES - 1997.pdf', 'FDA PRESS RELEASES - 1998.pdf', 'FDA PRESS RELEASES - 1999.pdf', 'FDA PRESS RELEASES - 2000.pdf', 'FDA PRESS RELEASES - 2001.pdf', 'FDA PRESS RELEASES - 2002.pdf', 'FDA PRESS RELEASES - 2003.pdf', 'FDA PRESS RELEASES - 2004.pdf', 'FDA PRESS RELEASES - 2005.pdf', 'FDA PRESS RELEASES - 2006.pdf', 'FDA PRESS RELEASES - 2007.pdf', 'FDA PRESS RELEASES - 2008.pdf', 'FDA PRESS RELEASES - 2009.pdf', 'FDA PRESS RELEASES - 2010.pdf', 'FDA PRESS RELEASES - 2011.pdf', 'FDA PRESS RELEASES - 2012.pdf', 'FDA PRESS RELEASES - 2013.pdf', 'FDA PRESS RELEASES - 2014.pdf', 'FDA TALK PAPERS - 1973.pdf', 'FDA TALK PAPERS - 1974.pdf', 'FDA TALK PAPERS - 1983.pdf', 'FDA TALK PAPERS - 1985.pdf', 'FDA TALK PAPERS -1989.pdf', 'FDA TALK PAPERS -1991.pdf', 'FDA TALK PAPERS -1994.pdf', 'FDA TALK PAPERS -1995.pdf', 'FDA TALK PAPERS -1996.pdf', 'FDA TALK PAPERS -1997.pdf', 'FDA TALK PAPERS -1998.pdf', 'FDA TALK PAPERS -1999.pdf', 'FDA TALK PAPERS -2000.pdf', 'FDA TALK PAPERS -2002.pdf', 'FDA TALK PAPERS -2003.pdf']}, 7: {'decade': [1990], 'number_of_docs': [3], 'appears_cnt': [5], 'documents': ['FDA TALK PAPERS -1990.pdf', 'FDA TALK PAPERS -1991.pdf', 'FDA TALK PAPERS -1999.pdf']}, 9: {'decade': [1970, 1980, 1990, 2000, 2010], 'number_of_docs': [1, 1, 4, 5, 2], 'appears_cnt': [1, 2, 5, 6, 5], 'documents': ['FDA PRESS RELEASES - 1974.pdf', 'FDA PRESS RELEASES - 1986.pdf', 'FDA PRESS RELEASES - 2006.pdf', 'FDA PRESS RELEASES - 2007.pdf', 'FDA PRESS RELEASES - 2009.pdf', 'FDA PRESS RELEASES - 2011.pdf', 'FDA PRESS RELEASES - 2014.pdf', 'FDA TALK PAPERS -1992.pdf', 'FDA TALK PAPERS -1993.pdf', 'FDA TALK PAPERS -1994.pdf', 'FDA TALK PAPERS -1999.pdf', 'FDA TALK PAPERS -2000.pdf', 'FDA TALK PAPERS -2003.pdf']}, 10: {'decade': [1920, 1950, 1960, 1970, 1980, 1990, 2000, 2010], 'number_of_docs': [1, 2, 2, 9, 8, 5, 8, 5], 'appears_cnt': [1, 3, 2, 17, 15, 10, 15, 16], 'documents': ['FDA PRESS RELEASES - 1920.pdf', 'FDA PRESS RELEASES - 1950.pdf', 'FDA PRESS RELEASES - 1956.pdf', 'FDA PRESS RELEASES - 1964.pdf', 'FDA PRESS RELEASES - 1967.pdf', 'FDA PRESS RELEASES - 1970.pdf', 'FDA PRESS RELEASES - 1972.pdf', 'FDA PRESS RELEASES - 1975.pdf', 'FDA PRESS RELEASES - 1976.pdf', 'FDA PRESS RELEASES - 1977.pdf', 'FDA PRESS RELEASES - 1978.pdf', 'FDA PRESS RELEASES - 1979.pdf', 'FDA PRESS RELEASES - 1980.pdf', 'FDA PRESS RELEASES - 1982.pdf', 'FDA PRESS RELEASES - 1985.pdf', 'FDA PRESS RELEASES - 1988.pdf', 'FDA PRESS RELEASES - 2003.pdf', 'FDA PRESS RELEASES - 2004.pdf', 'FDA PRESS RELEASES - 2006.pdf', 'FDA PRESS RELEASES - 2007.pdf', 'FDA PRESS RELEASES - 2008.pdf', 'FDA PRESS RELEASES - 2009.pdf', 'FDA PRESS RELEASES - 2010.pdf', 'FDA PRESS RELEASES - 2011.pdf', 'FDA PRESS RELEASES - 2012.pdf', 'FDA PRESS RELEASES - 2013.pdf', 'FDA PRESS RELEASES - 2014.pdf', 'FDA TALK PAPERS - 1975.pdf', 'FDA TALK PAPERS - 1978.pdf', 'FDA TALK PAPERS - 1982.pdf', 'FDA TALK PAPERS - 1984.pdf', 'FDA TALK PAPERS - 1986.pdf', 'FDA TALK PAPERS -1989.pdf', 'FDA TALK PAPERS -1990.pdf', 'FDA TALK PAPERS -1991.pdf', 'FDA TALK PAPERS -1992.pdf', 'FDA TALK PAPERS -1994.pdf', 'FDA TALK PAPERS -1999.pdf', 'FDA TALK PAPERS -2000.pdf', 'FDA TALK PAPERS -2003.pdf']}, 11: {'decade': [1970, 1980, 1990, 2000, 2010], 'number_of_docs': [2, 9, 9, 6, 5], 'appears_cnt': [17, 23, 46, 13, 16], 'documents': ['FDA PRESS RELEASES - 1973.pdf', 'FDA PRESS RELEASES - 1974.pdf', 'FDA PRESS RELEASES - 1980.pdf', 'FDA PRESS RELEASES - 1982.pdf', 'FDA PRESS RELEASES - 1983.pdf', 'FDA PRESS RELEASES - 1985.pdf', 'FDA PRESS RELEASES - 1986.pdf', 'FDA PRESS RELEASES - 1988.pdf', 'FDA PRESS RELEASES - 1989.pdf', 'FDA PRESS RELEASES - 1991.pdf', 'FDA PRESS RELEASES - 1992.pdf', 'FDA PRESS RELEASES - 1997.pdf', 'FDA PRESS RELEASES - 1998.pdf', 'FDA PRESS RELEASES - 2002.pdf', 'FDA PRESS RELEASES - 2003.pdf', 'FDA PRESS RELEASES - 2005.pdf', 'FDA PRESS RELEASES - 2006.pdf', 'FDA PRESS RELEASES - 2009.pdf', 'FDA PRESS RELEASES - 2010.pdf', 'FDA PRESS RELEASES - 2011.pdf', 'FDA PRESS RELEASES - 2012.pdf', 'FDA PRESS RELEASES - 2013.pdf', 'FDA PRESS RELEASES - 2014.pdf', 'FDA TALK PAPERS - 1985.pdf', 'FDA TALK PAPERS -1989.pdf', 'FDA TALK PAPERS -1994.pdf', 'FDA TALK PAPERS -1995.pdf', 'FDA TALK PAPERS -1996.pdf', 'FDA TALK PAPERS -1997.pdf', 'FDA TALK PAPERS -1998.pdf', 'FDA TALK PAPERS -2000.pdf']}, 12: {'decade': [1980, 2000, 2010], 'number_of_docs': [1, 1, 5], 'appears_cnt': [1, 1, 12], 'documents': ['FDA PRESS RELEASES - 1986.pdf', 'FDA PRESS RELEASES - 2009.pdf', 'FDA PRESS RELEASES - 2010.pdf', 'FDA PRESS RELEASES - 2011.pdf', 'FDA PRESS RELEASES - 2012.pdf', 'FDA PRESS RELEASES - 2013.pdf', 'FDA PRESS RELEASES - 2014.pdf']}, 13: {'decade': [1920, 1930, 1950, 1960, 1990, 2000, 2010], 'number_of_docs': [1, 3, 1, 1, 1, 5, 4], 'appears_cnt': [1, 5, 1, 1, 1, 6, 8], 'documents': ['FDA PRESS RELEASES - 1929.pdf', 'FDA PRESS RELEASES - 1935.pdf', 'FDA PRESS RELEASES - 1936.pdf', 'FDA PRESS RELEASES - 1937.pdf', 'FDA PRESS RELEASES - 1958.pdf', 'FDA PRESS RELEASES - 1961.pdf', 'FDA PRESS RELEASES - 1997.pdf', 'FDA PRESS RELEASES - 2003.pdf', 'FDA PRESS RELEASES - 2006.pdf', 'FDA PRESS RELEASES - 2007.pdf', 'FDA PRESS RELEASES - 2009.pdf', 'FDA PRESS RELEASES - 2010.pdf', 'FDA PRESS RELEASES - 2011.pdf', 'FDA PRESS RELEASES - 2012.pdf', 'FDA PRESS RELEASES - 2014.pdf', 'FDA TALK PAPERS -2002.pdf']}, 15: {'decade': [1970, 2000, 2010], 'number_of_docs': [1, 1, 4], 'appears_cnt': [1, 10, 17], 'documents': ['FDA PRESS RELEASES - 1974.pdf', 'FDA PRESS RELEASES - 2009.pdf', 'FDA PRESS RELEASES - 2010.pdf', 'FDA PRESS RELEASES - 2011.pdf', 'FDA PRESS RELEASES - 2012.pdf', 'FDA PRESS RELEASES - 2013.pdf']}, 16: {'decade': [1980, 1990, 2000, 2010], 'number_of_docs': [3, 3, 5, 5], 'appears_cnt': [3, 4, 12, 28], 'documents': ['FDA PRESS RELEASES - 1986.pdf', 'FDA PRESS RELEASES - 2003.pdf', 'FDA PRESS RELEASES - 2008.pdf', 'FDA PRESS RELEASES - 2009.pdf', 'FDA PRESS RELEASES - 2010.pdf', 'FDA PRESS RELEASES - 2011.pdf', 'FDA PRESS RELEASES - 2012.pdf', 'FDA PRESS RELEASES - 2013.pdf', 'FDA PRESS RELEASES - 2014.pdf', 'FDA TALK PAPERS - 1984.pdf', 'FDA TALK PAPERS - 1986.pdf', 'FDA TALK PAPERS -1993.pdf', 'FDA TALK PAPERS -1996.pdf', 'FDA TALK PAPERS -1997.pdf', 'FDA TALK PAPERS -2002.pdf', 'FDA TALK PAPERS -2003.pdf']}, 19: {'decade': [1980, 1990, 2000, 2010], 'number_of_docs': [5, 2, 9, 5], 'appears_cnt': [10, 3, 13, 17], 'documents': ['FDA PRESS RELEASES - 1983.pdf', 'FDA PRESS RELEASES - 1985.pdf', 'FDA PRESS RELEASES - 1986.pdf', 'FDA PRESS RELEASES - 1992.pdf', 'FDA PRESS RELEASES - 1997.pdf', 'FDA PRESS RELEASES - 2001.pdf', 'FDA PRESS RELEASES - 2003.pdf', 'FDA PRESS RELEASES - 2006.pdf', 'FDA PRESS RELEASES - 2007.pdf', 'FDA PRESS RELEASES - 2008.pdf', 'FDA PRESS RELEASES - 2009.pdf', 'FDA PRESS RELEASES - 2010.pdf', 'FDA PRESS RELEASES - 2011.pdf', 'FDA PRESS RELEASES - 2012.pdf', 'FDA PRESS RELEASES - 2013.pdf', 'FDA PRESS RELEASES - 2014.pdf', 'FDA TALK PAPERS - 1983.pdf', 'FDA TALK PAPERS - 1985.pdf', 'FDA TALK PAPERS -2000.pdf', 'FDA TALK PAPERS -2002.pdf', 'FDA TALK PAPERS -2003.pdf']}, 20: {'decade': [1970, 1980, 2000], 'number_of_docs': [1, 1, 2], 'appears_cnt': [1, 1, 2], 'documents': ['FDA PRESS RELEASES - 1977.pdf', 'FDA PRESS RELEASES - 2004.pdf', 'FDA PRESS RELEASES - 2009.pdf', 'FDA TALK PAPERS - 1987.pdf']}, 21: {'decade': [1990], 'number_of_docs': [1], 'appears_cnt': [1], 'documents': ['FDA TALK PAPERS -1995.pdf']}, 22: {'decade': [2010], 'number_of_docs': [2], 'appears_cnt': [2], 'documents': ['FDA PRESS RELEASES - 2013.pdf', 'FDA PRESS RELEASES - 2014.pdf']}, 23: {'decade': [1970, 1980, 1990, 2000, 2010], 'number_of_docs': [2, 6, 6, 5, 5], 'appears_cnt': [2, 8, 11, 13, 17], 'documents': ['FDA PRESS RELEASES - 1973.pdf', 'FDA PRESS RELEASES - 1976.pdf', 'FDA PRESS RELEASES - 1981.pdf', 'FDA PRESS RELEASES - 1982.pdf', 'FDA PRESS RELEASES - 1984.pdf', 'FDA PRESS RELEASES - 1985.pdf', 'FDA PRESS RELEASES - 1986.pdf', 'FDA PRESS RELEASES - 1989.pdf', 'FDA PRESS RELEASES - 1990.pdf', 'FDA PRESS RELEASES - 1993.pdf', 'FDA PRESS RELEASES - 1994.pdf', 'FDA PRESS RELEASES - 1995.pdf', 'FDA PRESS RELEASES - 1998.pdf', 'FDA PRESS RELEASES - 2004.pdf', 'FDA PRESS RELEASES - 2006.pdf', 'FDA PRESS RELEASES - 2007.pdf', 'FDA PRESS RELEASES - 2010.pdf', 'FDA PRESS RELEASES - 2011.pdf', 'FDA PRESS RELEASES - 2012.pdf', 'FDA PRESS RELEASES - 2013.pdf', 'FDA PRESS RELEASES - 2014.pdf', 'FDA TALK PAPERS -1996.pdf', 'FDA TALK PAPERS -2000.pdf', 'FDA TALK PAPERS -2003.pdf']}, 24: {'decade': [1920, 1930, 1950, 1960, 1970, 1980, 1990, 2000, 2010], 'number_of_docs': [1, 5, 1, 1, 2, 5, 10, 7, 5], 'appears_cnt': [1, 13, 1, 1, 2, 6, 16, 22, 14], 'documents': ['FDA PRESS RELEASES - 1929.pdf', 'FDA PRESS RELEASES - 1932.pdf', 'FDA PRESS RELEASES - 1934.pdf', 'FDA PRESS RELEASES - 1935.pdf', 'FDA PRESS RELEASES - 1936.pdf', 'FDA PRESS RELEASES - 1937.pdf', 'FDA PRESS RELEASES - 1955.pdf', 'FDA PRESS RELEASES - 1964.pdf', 'FDA PRESS RELEASES - 1981.pdf', 'FDA PRESS RELEASES - 1982.pdf', 'FDA PRESS RELEASES - 1986.pdf', 'FDA PRESS RELEASES - 1990.pdf', 'FDA PRESS RELEASES - 1991.pdf', 'FDA PRESS RELEASES - 1992.pdf', 'FDA PRESS RELEASES - 1997.pdf', 'FDA PRESS RELEASES - 1998.pdf', 'FDA PRESS RELEASES - 2003.pdf', 'FDA PRESS RELEASES - 2004.pdf', 'FDA PRESS RELEASES - 2006.pdf', 'FDA PRESS RELEASES - 2007.pdf', 'FDA PRESS RELEASES - 2008.pdf', 'FDA PRESS RELEASES - 2009.pdf', 'FDA PRESS RELEASES - 2010.pdf', 'FDA PRESS RELEASES - 2011.pdf', 'FDA PRESS RELEASES - 2012.pdf', 'FDA PRESS RELEASES - 2013.pdf', 'FDA PRESS RELEASES - 2014.pdf', 'FDA TALK PAPERS - 1973.pdf', 'FDA TALK PAPERS - 1977.pdf', 'FDA TALK PAPERS - 1986.pdf', 'FDA TALK PAPERS -1989.pdf', 'FDA TALK PAPERS -1994.pdf', 'FDA TALK PAPERS -1995.pdf', 'FDA TALK PAPERS -1996.pdf', 'FDA TALK PAPERS -1998.pdf', 'FDA TALK PAPERS -1999.pdf', 'FDA TALK PAPERS -2000.pdf']}, 27: {'decade': [1910, 1920, 1930, 1950, 1960, 1970, 1980, 1990, 2000, 2010], 'number_of_docs': [1, 1, 6, 2, 5, 5, 3, 6, 11, 5], 'appears_cnt': [1, 1, 20, 2, 6, 13, 5, 10, 67, 54], 'documents': ['FDA PRESS RELEASES - 1916.pdf', 'FDA PRESS RELEASES - 1929.pdf', 'FDA PRESS RELEASES - 1931.pdf', 'FDA PRESS RELEASES - 1933.pdf', 'FDA PRESS RELEASES - 1935.pdf', 'FDA PRESS RELEASES - 1936.pdf', 'FDA PRESS RELEASES - 1937.pdf', 'FDA PRESS RELEASES - 1938.pdf', 'FDA PRESS RELEASES - 1955.pdf', 'FDA PRESS RELEASES - 1959.pdf', 'FDA PRESS RELEASES - 1960.pdf', 'FDA PRESS RELEASES - 1961.pdf', 'FDA PRESS RELEASES - 1962.pdf', 'FDA PRESS RELEASES - 1964.pdf', 'FDA PRESS RELEASES - 1965.pdf', 'FDA PRESS RELEASES - 1974.pdf', 'FDA PRESS RELEASES - 1975.pdf', 'FDA PRESS RELEASES - 1977.pdf', 'FDA PRESS RELEASES - 1982.pdf', 'FDA PRESS RELEASES - 1990.pdf', 'FDA PRESS RELEASES - 1999.pdf', 'FDA PRESS RELEASES - 2000.pdf', 'FDA PRESS RELEASES - 2002.pdf', 'FDA PRESS RELEASES - 2003.pdf', 'FDA PRESS RELEASES - 2004.pdf', 'FDA PRESS RELEASES - 2006.pdf', 'FDA PRESS RELEASES - 2007.pdf', 'FDA PRESS RELEASES - 2008.pdf', 'FDA PRESS RELEASES - 2009.pdf', 'FDA PRESS RELEASES - 2010.pdf', 'FDA PRESS RELEASES - 2011.pdf', 'FDA PRESS RELEASES - 2012.pdf', 'FDA PRESS RELEASES - 2013.pdf', 'FDA PRESS RELEASES - 2014.pdf', 'FDA TALK PAPERS - 1978.pdf', 'FDA TALK PAPERS - 1979.pdf', 'FDA TALK PAPERS - 1984.pdf', 'FDA TALK PAPERS - 1985.pdf', 'FDA TALK PAPERS -1994.pdf', 'FDA TALK PAPERS -1995.pdf', 'FDA TALK PAPERS -1997.pdf', 'FDA TALK PAPERS -1998.pdf', 'FDA TALK PAPERS -2000.pdf', 'FDA TALK PAPERS -2002.pdf', 'FDA TALK PAPERS -2003.pdf']}, 28: {'decade': [1930], 'number_of_docs': [1], 'appears_cnt': [1], 'documents': ['FDA PRESS RELEASES - 1936.pdf']}, 29: {'decade': [1910, 1930, 1950, 1960, 1980, 1990, 2000, 2010], 'number_of_docs': [1, 1, 2, 3, 7, 3, 4, 4], 'appears_cnt': [1, 1, 4, 6, 16, 3, 8, 6], 'documents': ['FDA PRESS RELEASES - 1915.pdf', 'FDA PRESS RELEASES - 1937.pdf', 'FDA PRESS RELEASES - 1955.pdf', 'FDA PRESS RELEASES - 1956.pdf', 'FDA PRESS RELEASES - 1962.pdf', 'FDA PRESS RELEASES - 1964.pdf', 'FDA PRESS RELEASES - 1969.pdf', 'FDA PRESS RELEASES - 1982.pdf', 'FDA PRESS RELEASES - 1987.pdf', 'FDA PRESS RELEASES - 1988.pdf', 'FDA PRESS RELEASES - 1989.pdf', 'FDA PRESS RELEASES - 1990.pdf', 'FDA PRESS RELEASES - 2005.pdf', 'FDA PRESS RELEASES - 2008.pdf', 'FDA PRESS RELEASES - 2009.pdf', 'FDA PRESS RELEASES - 2010.pdf', 'FDA PRESS RELEASES - 2011.pdf', 'FDA PRESS RELEASES - 2012.pdf', 'FDA PRESS RELEASES - 2013.pdf', 'FDA TALK PAPERS - 1982.pdf', 'FDA TALK PAPERS - 1985.pdf', 'FDA TALK PAPERS -1989.pdf', 'FDA TALK PAPERS -1992.pdf', 'FDA TALK PAPERS -1997.pdf', 'FDA TALK PAPERS -2003.pdf']}, 30: {'decade': [1910, 1920, 1930, 1940, 1950, 1960, 1970, 1980, 1990, 2000, 2010], 'number_of_docs': [3, 2, 7, 2, 4, 5, 15, 13, 15, 10, 5], 'appears_cnt': [8, 5, 90, 3, 4, 12, 58, 51, 36, 98, 72], 'documents': ['FDA PRESS RELEASES - 1913.pdf', 'FDA PRESS RELEASES - 1915.pdf', 'FDA PRESS RELEASES - 1917.pdf', 'FDA PRESS RELEASES - 1920.pdf', 'FDA PRESS RELEASES - 1929.pdf', 'FDA PRESS RELEASES - 1933.pdf', 'FDA PRESS RELEASES - 1934.pdf', 'FDA PRESS RELEASES - 1935.pdf', 'FDA PRESS RELEASES - 1936.pdf', 'FDA PRESS RELEASES - 1937.pdf', 'FDA PRESS RELEASES - 1938.pdf', 'FDA PRESS RELEASES - 1939.pdf', 'FDA PRESS RELEASES - 1941.pdf', 'FDA PRESS RELEASES - 1949.pdf', 'FDA PRESS RELEASES - 1954.pdf', 'FDA PRESS RELEASES - 1955.pdf', 'FDA PRESS RELEASES - 1958.pdf', 'FDA PRESS RELEASES - 1959.pdf', 'FDA PRESS RELEASES - 1961.pdf', 'FDA PRESS RELEASES - 1962.pdf', 'FDA PRESS RELEASES - 1964.pdf', 'FDA PRESS RELEASES - 1967.pdf', 'FDA PRESS RELEASES - 1968.pdf', 'FDA PRESS RELEASES - 1971.pdf', 'FDA PRESS RELEASES - 1972.pdf', 'FDA PRESS RELEASES - 1973.pdf', 'FDA PRESS RELEASES - 1974.pdf', 'FDA PRESS RELEASES - 1975.pdf', 'FDA PRESS RELEASES - 1976.pdf', 'FDA PRESS RELEASES - 1977.pdf', 'FDA PRESS RELEASES - 1978.pdf', 'FDA PRESS RELEASES - 1979.pdf', 'FDA PRESS RELEASES - 1980.pdf', 'FDA PRESS RELEASES - 1981.pdf', 'FDA PRESS RELEASES - 1982.pdf', 'FDA PRESS RELEASES - 1983.pdf', 'FDA PRESS RELEASES - 1985.pdf', 'FDA PRESS RELEASES - 1986.pdf', 'FDA PRESS RELEASES - 1988.pdf', 'FDA PRESS RELEASES - 1989.pdf', 'FDA PRESS RELEASES - 1990.pdf', 'FDA PRESS RELEASES - 1991.pdf', 'FDA PRESS RELEASES - 1993.pdf', 'FDA PRESS RELEASES - 1994.pdf', 'FDA PRESS RELEASES - 1995.pdf', 'FDA PRESS RELEASES - 1996.pdf', 'FDA PRESS RELEASES - 1997.pdf', 'FDA PRESS RELEASES - 2003.pdf', 'FDA PRESS RELEASES - 2004.pdf', 'FDA PRESS RELEASES - 2005.pdf', 'FDA PRESS RELEASES - 2006.pdf', 'FDA PRESS RELEASES - 2007.pdf', 'FDA PRESS RELEASES - 2008.pdf', 'FDA PRESS RELEASES - 2009.pdf', 'FDA PRESS RELEASES - 2010.pdf', 'FDA PRESS RELEASES - 2011.pdf', 'FDA PRESS RELEASES - 2012.pdf', 'FDA PRESS RELEASES - 2013.pdf', 'FDA PRESS RELEASES - 2014.pdf', 'FDA TALK PAPERS - 1973.pdf', 'FDA TALK PAPERS - 1975.pdf', 'FDA TALK PAPERS - 1976.pdf', 'FDA TALK PAPERS - 1977.pdf', 'FDA TALK PAPERS - 1978.pdf', 'FDA TALK PAPERS - 1979.pdf', 'FDA TALK PAPERS - 1981.pdf', 'FDA TALK PAPERS - 1982.pdf', 'FDA TALK PAPERS - 1985.pdf', 'FDA TALK PAPERS - 1987.pdf', 'FDA TALK PAPERS -1989.pdf', 'FDA TALK PAPERS -1992.pdf', 'FDA TALK PAPERS -1993.pdf', 'FDA TALK PAPERS -1994.pdf', 'FDA TALK PAPERS -1995.pdf', 'FDA TALK PAPERS -1996.pdf', 'FDA TALK PAPERS -1997.pdf', 'FDA TALK PAPERS -1998.pdf', 'FDA TALK PAPERS -1999.pdf', 'FDA TALK PAPERS -2000.pdf', 'FDA TALK PAPERS -2002.pdf', 'FDA TALK PAPERS -2003.pdf']}, 32: {'decade': [1910, 1920, 1930, 1940, 1950, 1960, 1970, 1980, 1990, 2000, 2010], 'number_of_docs': [4, 7, 9, 3, 8, 9, 17, 20, 20, 13, 5], 'appears_cnt': [16, 19, 49, 6, 31, 92, 232, 356, 310, 544, 335], 'documents': ['FDA PRESS RELEASES - 1913.pdf', 'FDA PRESS RELEASES - 1914.pdf', 'FDA PRESS RELEASES - 1917.pdf', 'FDA PRESS RELEASES - 1919.pdf', 'FDA PRESS RELEASES - 1920.pdf', 'FDA PRESS RELEASES - 1922.pdf', 'FDA PRESS RELEASES - 1923.pdf', 'FDA PRESS RELEASES - 1924.pdf', 'FDA PRESS RELEASES - 1925.pdf', 'FDA PRESS RELEASES - 1927.pdf', 'FDA PRESS RELEASES - 1929.pdf', 'FDA PRESS RELEASES - 1930.pdf', 'FDA PRESS RELEASES - 1931.pdf', 'FDA PRESS RELEASES - 1932.pdf', 'FDA PRESS RELEASES - 1933.pdf', 'FDA PRESS RELEASES - 1934.pdf', 'FDA PRESS RELEASES - 1935.pdf', 'FDA PRESS RELEASES - 1936.pdf', 'FDA PRESS RELEASES - 1937.pdf', 'FDA PRESS RELEASES - 1938.pdf', 'FDA PRESS RELEASES - 1941.pdf', 'FDA PRESS RELEASES - 1942.pdf', 'FDA PRESS RELEASES - 1948.pdf', 'FDA PRESS RELEASES - 1950.pdf', 'FDA PRESS RELEASES - 1951.pdf', 'FDA PRESS RELEASES - 1953.pdf', 'FDA PRESS RELEASES - 1954.pdf', 'FDA PRESS RELEASES - 1955.pdf', 'FDA PRESS RELEASES - 1956.pdf', 'FDA PRESS RELEASES - 1957.pdf', 'FDA PRESS RELEASES - 1959.pdf', 'FDA PRESS RELEASES - 1960.pdf', 'FDA PRESS RELEASES - 1961.pdf', 'FDA PRESS RELEASES - 1962.pdf', 'FDA PRESS RELEASES - 1963.pdf', 'FDA PRESS RELEASES - 1964.pdf', 'FDA PRESS RELEASES - 1965.pdf', 'FDA PRESS RELEASES - 1967.pdf', 'FDA PRESS RELEASES - 1968.pdf', 'FDA PRESS RELEASES - 1969.pdf', 'FDA PRESS RELEASES - 1970.pdf', 'FDA PRESS RELEASES - 1971.pdf', 'FDA PRESS RELEASES - 1972.pdf', 'FDA PRESS RELEASES - 1973.pdf', 'FDA PRESS RELEASES - 1974.pdf', 'FDA PRESS RELEASES - 1975.pdf', 'FDA PRESS RELEASES - 1976.pdf', 'FDA PRESS RELEASES - 1977.pdf', 'FDA PRESS RELEASES - 1978.pdf', 'FDA PRESS RELEASES - 1979.pdf', 'FDA PRESS RELEASES - 1980.pdf', 'FDA PRESS RELEASES - 1981.pdf', 'FDA PRESS RELEASES - 1982.pdf', 'FDA PRESS RELEASES - 1983.pdf', 'FDA PRESS RELEASES - 1984.pdf', 'FDA PRESS RELEASES - 1985.pdf', 'FDA PRESS RELEASES - 1986.pdf', 'FDA PRESS RELEASES - 1987.pdf', 'FDA PRESS RELEASES - 1988.pdf', 'FDA PRESS RELEASES - 1989.pdf', 'FDA PRESS RELEASES - 1990.pdf', 'FDA PRESS RELEASES - 1991.pdf', 'FDA PRESS RELEASES - 1992.pdf', 'FDA PRESS RELEASES - 1993.pdf', 'FDA PRESS RELEASES - 1994.pdf', 'FDA PRESS RELEASES - 1995.pdf', 'FDA PRESS RELEASES - 1996.pdf', 'FDA PRESS RELEASES - 1997.pdf', 'FDA PRESS RELEASES - 1998.pdf', 'FDA PRESS RELEASES - 1999.pdf', 'FDA PRESS RELEASES - 2000.pdf', 'FDA PRESS RELEASES - 2001.pdf', 'FDA PRESS RELEASES - 2002.pdf', 'FDA PRESS RELEASES - 2003.pdf', 'FDA PRESS RELEASES - 2004.pdf', 'FDA PRESS RELEASES - 2005.pdf', 'FDA PRESS RELEASES - 2006.pdf', 'FDA PRESS RELEASES - 2007.pdf', 'FDA PRESS RELEASES - 2008.pdf', 'FDA PRESS RELEASES - 2009.pdf', 'FDA PRESS RELEASES - 2010.pdf', 'FDA PRESS RELEASES - 2011.pdf', 'FDA PRESS RELEASES - 2012.pdf', 'FDA PRESS RELEASES - 2013.pdf', 'FDA PRESS RELEASES - 2014.pdf', 'FDA TALK PAPERS - 1973.pdf', 'FDA TALK PAPERS - 1974.pdf', 'FDA TALK PAPERS - 1975.pdf', 'FDA TALK PAPERS - 1976.pdf', 'FDA TALK PAPERS - 1977.pdf', 'FDA TALK PAPERS - 1978.pdf', 'FDA TALK PAPERS - 1979.pdf', 'FDA TALK PAPERS - 1980.pdf', 'FDA TALK PAPERS - 1981.pdf', 'FDA TALK PAPERS - 1982.pdf', 'FDA TALK PAPERS - 1983.pdf', 'FDA TALK PAPERS - 1984.pdf', 'FDA TALK PAPERS - 1985.pdf', 'FDA TALK PAPERS - 1986.pdf', 'FDA TALK PAPERS - 1987.pdf', 'FDA TALK PAPERS - 1988.pdf', 'FDA TALK PAPERS -1989.pdf', 'FDA TALK PAPERS -1990.pdf', 'FDA TALK PAPERS -1991.pdf', 'FDA TALK PAPERS -1992.pdf', 'FDA TALK PAPERS -1993.pdf', 'FDA TALK PAPERS -1994.pdf', 'FDA TALK PAPERS -1995.pdf', 'FDA TALK PAPERS -1996.pdf', 'FDA TALK PAPERS -1997.pdf', 'FDA TALK PAPERS -1998.pdf', 'FDA TALK PAPERS -1999.pdf', 'FDA TALK PAPERS -2000.pdf', 'FDA TALK PAPERS -2002.pdf', 'FDA TALK PAPERS -2003.pdf']}, 33: {'decade': [1990, 2000, 2010], 'number_of_docs': [1, 6, 5], 'appears_cnt': [1, 8, 26], 'documents': ['FDA PRESS RELEASES - 1998.pdf', 'FDA PRESS RELEASES - 2000.pdf', 'FDA PRESS RELEASES - 2003.pdf', 'FDA PRESS RELEASES - 2004.pdf', 'FDA PRESS RELEASES - 2007.pdf', 'FDA PRESS RELEASES - 2009.pdf', 'FDA PRESS RELEASES - 2010.pdf', 'FDA PRESS RELEASES - 2011.pdf', 'FDA PRESS RELEASES - 2012.pdf', 'FDA PRESS RELEASES - 2013.pdf', 'FDA PRESS RELEASES - 2014.pdf', 'FDA TALK PAPERS -2002.pdf']}, 34: {'decade': [1920, 1960, 1970, 1980, 1990, 2000, 2010], 'number_of_docs': [4, 1, 3, 3, 5, 4, 5], 'appears_cnt': [7, 1, 4, 3, 5, 8, 15], 'documents': ['FDA PRESS RELEASES - 1921.pdf', 'FDA PRESS RELEASES - 1923.pdf', 'FDA PRESS RELEASES - 1925.pdf', 'FDA PRESS RELEASES - 1929.pdf', 'FDA PRESS RELEASES - 1967.pdf', 'FDA PRESS RELEASES - 1974.pdf', 'FDA PRESS RELEASES - 1977.pdf', 'FDA PRESS RELEASES - 1998.pdf', 'FDA PRESS RELEASES - 2006.pdf', 'FDA PRESS RELEASES - 2007.pdf', 'FDA PRESS RELEASES - 2008.pdf', 'FDA PRESS RELEASES - 2010.pdf', 'FDA PRESS RELEASES - 2011.pdf', 'FDA PRESS RELEASES - 2012.pdf', 'FDA PRESS RELEASES - 2013.pdf', 'FDA PRESS RELEASES - 2014.pdf', 'FDA TALK PAPERS - 1977.pdf', 'FDA TALK PAPERS - 1982.pdf', 'FDA TALK PAPERS - 1984.pdf', 'FDA TALK PAPERS - 1985.pdf', 'FDA TALK PAPERS -1990.pdf', 'FDA TALK PAPERS -1997.pdf', 'FDA TALK PAPERS -1998.pdf', 'FDA TALK PAPERS -1999.pdf', 'FDA TALK PAPERS -2000.pdf']}, 35: {'decade': [1910, 1920, 1930, 1940, 1950, 1960, 1970, 1980, 1990, 2000, 2010], 'number_of_docs': [1, 3, 1, 1, 4, 6, 8, 10, 12, 10, 5], 'appears_cnt': [1, 8, 1, 2, 7, 25, 33, 15, 32, 62, 52], 'documents': ['FDA PRESS RELEASES - 1913.pdf', 'FDA PRESS RELEASES - 1924.pdf', 'FDA PRESS RELEASES - 1925.pdf', 'FDA PRESS RELEASES - 1926.pdf', 'FDA PRESS RELEASES - 1936.pdf', 'FDA PRESS RELEASES - 1941.pdf', 'FDA PRESS RELEASES - 1954.pdf', 'FDA PRESS RELEASES - 1955.pdf', 'FDA PRESS RELEASES - 1956.pdf', 'FDA PRESS RELEASES - 1958.pdf', 'FDA PRESS RELEASES - 1960.pdf', 'FDA PRESS RELEASES - 1961.pdf', 'FDA PRESS RELEASES - 1962.pdf', 'FDA PRESS RELEASES - 1964.pdf', 'FDA PRESS RELEASES - 1967.pdf', 'FDA PRESS RELEASES - 1968.pdf', 'FDA PRESS RELEASES - 1970.pdf', 'FDA PRESS RELEASES - 1972.pdf', 'FDA PRESS RELEASES - 1973.pdf', 'FDA PRESS RELEASES - 1976.pdf', 'FDA PRESS RELEASES - 1977.pdf', 'FDA PRESS RELEASES - 1979.pdf', 'FDA PRESS RELEASES - 1983.pdf', 'FDA PRESS RELEASES - 1984.pdf', 'FDA PRESS RELEASES - 1985.pdf', 'FDA PRESS RELEASES - 1986.pdf', 'FDA PRESS RELEASES - 1989.pdf', 'FDA PRESS RELEASES - 1990.pdf', 'FDA PRESS RELEASES - 1991.pdf', 'FDA PRESS RELEASES - 1992.pdf', 'FDA PRESS RELEASES - 1993.pdf', 'FDA PRESS RELEASES - 1997.pdf', 'FDA PRESS RELEASES - 1998.pdf', 'FDA PRESS RELEASES - 2003.pdf', 'FDA PRESS RELEASES - 2004.pdf', 'FDA PRESS RELEASES - 2005.pdf', 'FDA PRESS RELEASES - 2006.pdf', 'FDA PRESS RELEASES - 2007.pdf', 'FDA PRESS RELEASES - 2008.pdf', 'FDA PRESS RELEASES - 2009.pdf', 'FDA PRESS RELEASES - 2010.pdf', 'FDA PRESS RELEASES - 2011.pdf', 'FDA PRESS RELEASES - 2012.pdf', 'FDA PRESS RELEASES - 2013.pdf', 'FDA PRESS RELEASES - 2014.pdf', 'FDA TALK PAPERS - 1974.pdf', 'FDA TALK PAPERS - 1977.pdf', 'FDA TALK PAPERS - 1980.pdf', 'FDA TALK PAPERS - 1984.pdf', 'FDA TALK PAPERS - 1985.pdf', 'FDA TALK PAPERS - 1986.pdf', 'FDA TALK PAPERS -1989.pdf', 'FDA TALK PAPERS -1990.pdf', 'FDA TALK PAPERS -1991.pdf', 'FDA TALK PAPERS -1994.pdf', 'FDA TALK PAPERS -1996.pdf', 'FDA TALK PAPERS -1998.pdf', 'FDA TALK PAPERS -1999.pdf', 'FDA TALK PAPERS -2000.pdf', 'FDA TALK PAPERS -2002.pdf', 'FDA TALK PAPERS -2003.pdf']}, 36: {'decade': [1910, 1930], 'number_of_docs': [1, 3], 'appears_cnt': [1, 3], 'documents': ['FDA PRESS RELEASES - 1914.pdf', 'FDA PRESS RELEASES - 1934.pdf', 'FDA PRESS RELEASES - 1935.pdf', 'FDA PRESS RELEASES - 1936.pdf']}, 37: {'decade': [1920, 1930, 1950, 1960, 1970, 1980, 1990, 2000, 2010], 'number_of_docs': [2, 3, 4, 3, 9, 11, 16, 12, 5], 'appears_cnt': [2, 4, 4, 4, 17, 25, 31, 45, 61], 'documents': ['FDA PRESS RELEASES - 1922.pdf', 'FDA PRESS RELEASES - 1923.pdf', 'FDA PRESS RELEASES - 1933.pdf', 'FDA PRESS RELEASES - 1936.pdf', 'FDA PRESS RELEASES - 1937.pdf', 'FDA PRESS RELEASES - 1953.pdf', 'FDA PRESS RELEASES - 1954.pdf', 'FDA PRESS RELEASES - 1955.pdf', 'FDA PRESS RELEASES - 1956.pdf', 'FDA PRESS RELEASES - 1960.pdf', 'FDA PRESS RELEASES - 1961.pdf', 'FDA PRESS RELEASES - 1964.pdf', 'FDA PRESS RELEASES - 1970.pdf', 'FDA PRESS RELEASES - 1971.pdf', 'FDA PRESS RELEASES - 1973.pdf', 'FDA PRESS RELEASES - 1975.pdf', 'FDA PRESS RELEASES - 1976.pdf', 'FDA PRESS RELEASES - 1977.pdf', 'FDA PRESS RELEASES - 1979.pdf', 'FDA PRESS RELEASES - 1982.pdf', 'FDA PRESS RELEASES - 1984.pdf', 'FDA PRESS RELEASES - 1985.pdf', 'FDA PRESS RELEASES - 1987.pdf', 'FDA PRESS RELEASES - 1988.pdf', 'FDA PRESS RELEASES - 1989.pdf', 'FDA PRESS RELEASES - 1990.pdf', 'FDA PRESS RELEASES - 1991.pdf', 'FDA PRESS RELEASES - 1992.pdf', 'FDA PRESS RELEASES - 1993.pdf', 'FDA PRESS RELEASES - 1995.pdf', 'FDA PRESS RELEASES - 1996.pdf', 'FDA PRESS RELEASES - 1997.pdf', 'FDA PRESS RELEASES - 1998.pdf', 'FDA PRESS RELEASES - 1999.pdf', 'FDA PRESS RELEASES - 2000.pdf', 'FDA PRESS RELEASES - 2002.pdf', 'FDA PRESS RELEASES - 2003.pdf', 'FDA PRESS RELEASES - 2004.pdf', 'FDA PRESS RELEASES - 2005.pdf', 'FDA PRESS RELEASES - 2006.pdf', 'FDA PRESS RELEASES - 2007.pdf', 'FDA PRESS RELEASES - 2008.pdf', 'FDA PRESS RELEASES - 2009.pdf', 'FDA PRESS RELEASES - 2010.pdf', 'FDA PRESS RELEASES - 2011.pdf', 'FDA PRESS RELEASES - 2012.pdf', 'FDA PRESS RELEASES - 2013.pdf', 'FDA PRESS RELEASES - 2014.pdf', 'FDA TALK PAPERS - 1975.pdf', 'FDA TALK PAPERS - 1979.pdf', 'FDA TALK PAPERS - 1982.pdf', 'FDA TALK PAPERS - 1983.pdf', 'FDA TALK PAPERS - 1984.pdf', 'FDA TALK PAPERS - 1985.pdf', 'FDA TALK PAPERS -1989.pdf', 'FDA TALK PAPERS -1993.pdf', 'FDA TALK PAPERS -1994.pdf', 'FDA TALK PAPERS -1995.pdf', 'FDA TALK PAPERS -1996.pdf', 'FDA TALK PAPERS -1997.pdf', 'FDA TALK PAPERS -1998.pdf', 'FDA TALK PAPERS -1999.pdf', 'FDA TALK PAPERS -2000.pdf', 'FDA TALK PAPERS -2002.pdf', 'FDA TALK PAPERS -2003.pdf']}, 38: {'decade': [1960, 1970, 1980, 1990, 2000, 2010], 'number_of_docs': [1, 2, 5, 8, 8, 3], 'appears_cnt': [1, 20, 11, 10, 28, 5], 'documents': ['FDA PRESS RELEASES - 1968.pdf', 'FDA PRESS RELEASES - 1971.pdf', 'FDA PRESS RELEASES - 1974.pdf', 'FDA PRESS RELEASES - 1982.pdf', 'FDA PRESS RELEASES - 1984.pdf', 'FDA PRESS RELEASES - 1988.pdf', 'FDA PRESS RELEASES - 1992.pdf', 'FDA PRESS RELEASES - 1995.pdf', 'FDA PRESS RELEASES - 1996.pdf', 'FDA PRESS RELEASES - 1997.pdf', 'FDA PRESS RELEASES - 1998.pdf', 'FDA PRESS RELEASES - 1999.pdf', 'FDA PRESS RELEASES - 2003.pdf', 'FDA PRESS RELEASES - 2004.pdf', 'FDA PRESS RELEASES - 2005.pdf', 'FDA PRESS RELEASES - 2006.pdf', 'FDA PRESS RELEASES - 2007.pdf', 'FDA PRESS RELEASES - 2008.pdf', 'FDA PRESS RELEASES - 2009.pdf', 'FDA PRESS RELEASES - 2010.pdf', 'FDA PRESS RELEASES - 2012.pdf', 'FDA PRESS RELEASES - 2013.pdf', 'FDA TALK PAPERS - 1982.pdf', 'FDA TALK PAPERS - 1986.pdf', 'FDA TALK PAPERS -1997.pdf', 'FDA TALK PAPERS -1998.pdf', 'FDA TALK PAPERS -2000.pdf']}, 40: {'decade': [1910, 1920, 1930, 2000, 2010], 'number_of_docs': [2, 1, 4, 2, 5], 'appears_cnt': [2, 1, 16, 2, 8], 'documents': ['FDA PRESS RELEASES - 1914.pdf', 'FDA PRESS RELEASES - 1915.pdf', 'FDA PRESS RELEASES - 1923.pdf', 'FDA PRESS RELEASES - 1935.pdf', 'FDA PRESS RELEASES - 1936.pdf', 'FDA PRESS RELEASES - 1937.pdf', 'FDA PRESS RELEASES - 1938.pdf', 'FDA PRESS RELEASES - 2006.pdf', 'FDA PRESS RELEASES - 2008.pdf', 'FDA PRESS RELEASES - 2010.pdf', 'FDA PRESS RELEASES - 2011.pdf', 'FDA PRESS RELEASES - 2012.pdf', 'FDA PRESS RELEASES - 2013.pdf', 'FDA PRESS RELEASES - 2014.pdf']}, 44: {'decade': [1970, 1980, 1990, 2000, 2010], 'number_of_docs': [1, 1, 5, 4, 3], 'appears_cnt': [1, 1, 6, 4, 4], 'documents': ['FDA PRESS RELEASES - 1976.pdf', 'FDA PRESS RELEASES - 1980.pdf', 'FDA PRESS RELEASES - 1998.pdf', 'FDA PRESS RELEASES - 2002.pdf', 'FDA PRESS RELEASES - 2006.pdf', 'FDA PRESS RELEASES - 2008.pdf', 'FDA PRESS RELEASES - 2010.pdf', 'FDA PRESS RELEASES - 2011.pdf', 'FDA PRESS RELEASES - 2014.pdf', 'FDA TALK PAPERS -1995.pdf', 'FDA TALK PAPERS -1996.pdf', 'FDA TALK PAPERS -1997.pdf', 'FDA TALK PAPERS -1998.pdf', 'FDA TALK PAPERS -2002.pdf']}, 46: {'decade': [1910, 1920, 1930, 1940, 1950, 1960, 1970, 1980, 1990, 2000, 2010], 'number_of_docs': [6, 9, 10, 4, 9, 9, 15, 17, 17, 13, 5], 'appears_cnt': [30, 60, 71, 7, 51, 78, 105, 59, 47, 76, 32], 'documents': ['FDA PRESS RELEASES - 1913.pdf', 'FDA PRESS RELEASES - 1914.pdf', 'FDA PRESS RELEASES - 1915.pdf', 'FDA PRESS RELEASES - 1916.pdf', 'FDA PRESS RELEASES - 1917.pdf', 'FDA PRESS RELEASES - 1919.pdf', 'FDA PRESS RELEASES - 1920.pdf', 'FDA PRESS RELEASES - 1922.pdf', 'FDA PRESS RELEASES - 1923.pdf', 'FDA PRESS RELEASES - 1924.pdf', 'FDA PRESS RELEASES - 1925.pdf', 'FDA PRESS RELEASES - 1926.pdf', 'FDA PRESS RELEASES - 1927.pdf', 'FDA PRESS RELEASES - 1928.pdf', 'FDA PRESS RELEASES - 1929.pdf', 'FDA PRESS RELEASES - 1930.pdf', 'FDA PRESS RELEASES - 1931.pdf', 'FDA PRESS RELEASES - 1932.pdf', 'FDA PRESS RELEASES - 1933.pdf', 'FDA PRESS RELEASES - 1934.pdf', 'FDA PRESS RELEASES - 1935.pdf', 'FDA PRESS RELEASES - 1936.pdf', 'FDA PRESS RELEASES - 1937.pdf', 'FDA PRESS RELEASES - 1938.pdf', 'FDA PRESS RELEASES - 1939.pdf', 'FDA PRESS RELEASES - 1940.pdf', 'FDA PRESS RELEASES - 1941.pdf', 'FDA PRESS RELEASES - 1942.pdf', 'FDA PRESS RELEASES - 1948.pdf', 'FDA PRESS RELEASES - 1950.pdf', 'FDA PRESS RELEASES - 1951.pdf', 'FDA PRESS RELEASES - 1953.pdf', 'FDA PRESS RELEASES - 1954.pdf', 'FDA PRESS RELEASES - 1955.pdf', 'FDA PRESS RELEASES - 1956.pdf', 'FDA PRESS RELEASES - 1957.pdf', 'FDA PRESS RELEASES - 1958.pdf', 'FDA PRESS RELEASES - 1959.pdf', 'FDA PRESS RELEASES - 1960.pdf', 'FDA PRESS RELEASES - 1961.pdf', 'FDA PRESS RELEASES - 1962.pdf', 'FDA PRESS RELEASES - 1963.pdf', 'FDA PRESS RELEASES - 1964.pdf', 'FDA PRESS RELEASES - 1965.pdf', 'FDA PRESS RELEASES - 1967.pdf', 'FDA PRESS RELEASES - 1968.pdf', 'FDA PRESS RELEASES - 1969.pdf', 'FDA PRESS RELEASES - 1970.pdf', 'FDA PRESS RELEASES - 1971.pdf', 'FDA PRESS RELEASES - 1972.pdf', 'FDA PRESS RELEASES - 1973.pdf', 'FDA PRESS RELEASES - 1974.pdf', 'FDA PRESS RELEASES - 1975.pdf', 'FDA PRESS RELEASES - 1976.pdf', 'FDA PRESS RELEASES - 1977.pdf', 'FDA PRESS RELEASES - 1978.pdf', 'FDA PRESS RELEASES - 1979.pdf', 'FDA PRESS RELEASES - 1980.pdf', 'FDA PRESS RELEASES - 1982.pdf', 'FDA PRESS RELEASES - 1983.pdf', 'FDA PRESS RELEASES - 1985.pdf', 'FDA PRESS RELEASES - 1986.pdf', 'FDA PRESS RELEASES - 1987.pdf', 'FDA PRESS RELEASES - 1988.pdf', 'FDA PRESS RELEASES - 1989.pdf', 'FDA PRESS RELEASES - 1990.pdf', 'FDA PRESS RELEASES - 1992.pdf', 'FDA PRESS RELEASES - 1993.pdf', 'FDA PRESS RELEASES - 1994.pdf', 'FDA PRESS RELEASES - 1995.pdf', 'FDA PRESS RELEASES - 1996.pdf', 'FDA PRESS RELEASES - 1997.pdf', 'FDA PRESS RELEASES - 1998.pdf', 'FDA PRESS RELEASES - 2000.pdf', 'FDA PRESS RELEASES - 2001.pdf', 'FDA PRESS RELEASES - 2002.pdf', 'FDA PRESS RELEASES - 2003.pdf', 'FDA PRESS RELEASES - 2004.pdf', 'FDA PRESS RELEASES - 2005.pdf', 'FDA PRESS RELEASES - 2006.pdf', 'FDA PRESS RELEASES - 2007.pdf', 'FDA PRESS RELEASES - 2008.pdf', 'FDA PRESS RELEASES - 2009.pdf', 'FDA PRESS RELEASES - 2010.pdf', 'FDA PRESS RELEASES - 2011.pdf', 'FDA PRESS RELEASES - 2012.pdf', 'FDA PRESS RELEASES - 2013.pdf', 'FDA PRESS RELEASES - 2014.pdf', 'FDA TALK PAPERS - 1973.pdf', 'FDA TALK PAPERS - 1974.pdf', 'FDA TALK PAPERS - 1975.pdf', 'FDA TALK PAPERS - 1978.pdf', 'FDA TALK PAPERS - 1979.pdf', 'FDA TALK PAPERS - 1980.pdf', 'FDA TALK PAPERS - 1982.pdf', 'FDA TALK PAPERS - 1983.pdf', 'FDA TALK PAPERS - 1984.pdf', 'FDA TALK PAPERS - 1985.pdf', 'FDA TALK PAPERS - 1986.pdf', 'FDA TALK PAPERS - 1987.pdf', 'FDA TALK PAPERS - 1988.pdf', 'FDA TALK PAPERS -1989.pdf', 'FDA TALK PAPERS -1990.pdf', 'FDA TALK PAPERS -1991.pdf', 'FDA TALK PAPERS -1992.pdf', 'FDA TALK PAPERS -1993.pdf', 'FDA TALK PAPERS -1994.pdf', 'FDA TALK PAPERS -1995.pdf', 'FDA TALK PAPERS -1996.pdf', 'FDA TALK PAPERS -1998.pdf', 'FDA TALK PAPERS -1999.pdf', 'FDA TALK PAPERS -2000.pdf', 'FDA TALK PAPERS -2002.pdf', 'FDA TALK PAPERS -2003.pdf']}, 47: {'decade': [1930, 1950, 1960, 1970, 1980, 1990, 2000, 2010], 'number_of_docs': [2, 6, 5, 6, 5, 17, 12, 5], 'appears_cnt': [3, 15, 14, 8, 5, 42, 86, 105], 'documents': ['FDA PRESS RELEASES - 1936.pdf', 'FDA PRESS RELEASES - 1937.pdf', 'FDA PRESS RELEASES - 1951.pdf', 'FDA PRESS RELEASES - 1954.pdf', 'FDA PRESS RELEASES - 1955.pdf', 'FDA PRESS RELEASES - 1956.pdf', 'FDA PRESS RELEASES - 1958.pdf', 'FDA PRESS RELEASES - 1959.pdf', 'FDA PRESS RELEASES - 1960.pdf', 'FDA PRESS RELEASES - 1961.pdf', 'FDA PRESS RELEASES - 1962.pdf', 'FDA PRESS RELEASES - 1964.pdf', 'FDA PRESS RELEASES - 1967.pdf', 'FDA PRESS RELEASES - 1975.pdf', 'FDA PRESS RELEASES - 1977.pdf', 'FDA PRESS RELEASES - 1978.pdf', 'FDA PRESS RELEASES - 1984.pdf', 'FDA PRESS RELEASES - 1986.pdf', 'FDA PRESS RELEASES - 1989.pdf', 'FDA PRESS RELEASES - 1990.pdf', 'FDA PRESS RELEASES - 1991.pdf', 'FDA PRESS RELEASES - 1992.pdf', 'FDA PRESS RELEASES - 1993.pdf', 'FDA PRESS RELEASES - 1994.pdf', 'FDA PRESS RELEASES - 1995.pdf', 'FDA PRESS RELEASES - 1996.pdf', 'FDA PRESS RELEASES - 1999.pdf', 'FDA PRESS RELEASES - 2001.pdf', 'FDA PRESS RELEASES - 2002.pdf', 'FDA PRESS RELEASES - 2003.pdf', 'FDA PRESS RELEASES - 2004.pdf', 'FDA PRESS RELEASES - 2005.pdf', 'FDA PRESS RELEASES - 2006.pdf', 'FDA PRESS RELEASES - 2007.pdf', 'FDA PRESS RELEASES - 2008.pdf', 'FDA PRESS RELEASES - 2009.pdf', 'FDA PRESS RELEASES - 2010.pdf', 'FDA PRESS RELEASES - 2011.pdf', 'FDA PRESS RELEASES - 2012.pdf', 'FDA PRESS RELEASES - 2013.pdf', 'FDA PRESS RELEASES - 2014.pdf', 'FDA TALK PAPERS - 1974.pdf', 'FDA TALK PAPERS - 1975.pdf', 'FDA TALK PAPERS - 1979.pdf', 'FDA TALK PAPERS - 1984.pdf', 'FDA TALK PAPERS - 1986.pdf', 'FDA TALK PAPERS -1991.pdf', 'FDA TALK PAPERS -1992.pdf', 'FDA TALK PAPERS -1993.pdf', 'FDA TALK PAPERS -1994.pdf', 'FDA TALK PAPERS -1995.pdf', 'FDA TALK PAPERS -1996.pdf', 'FDA TALK PAPERS -1997.pdf', 'FDA TALK PAPERS -1998.pdf', 'FDA TALK PAPERS -1999.pdf', 'FDA TALK PAPERS -2000.pdf', 'FDA TALK PAPERS -2002.pdf', 'FDA TALK PAPERS -2003.pdf']}, 53: {'decade': [2000, 2010], 'number_of_docs': [1, 1], 'appears_cnt': [1, 1], 'documents': ['FDA PRESS RELEASES - 2008.pdf', 'FDA PRESS RELEASES - 2012.pdf']}, 55: {'decade': [1910, 1920, 1930, 1940, 1950, 1960, 1970, 1980, 1990, 2000, 2010], 'number_of_docs': [3, 3, 7, 3, 7, 5, 13, 19, 19, 13, 5], 'appears_cnt': [9, 3, 58, 9, 14, 16, 33, 63, 85, 136, 189], 'documents': ['FDA PRESS RELEASES - 1913.pdf', 'FDA PRESS RELEASES - 1914.pdf', 'FDA PRESS RELEASES - 1917.pdf', 'FDA PRESS RELEASES - 1920.pdf', 'FDA PRESS RELEASES - 1923.pdf', 'FDA PRESS RELEASES - 1929.pdf', 'FDA PRESS RELEASES - 1932.pdf', 'FDA PRESS RELEASES - 1934.pdf', 'FDA PRESS RELEASES - 1935.pdf', 'FDA PRESS RELEASES - 1936.pdf', 'FDA PRESS RELEASES - 1937.pdf', 'FDA PRESS RELEASES - 1938.pdf', 'FDA PRESS RELEASES - 1939.pdf', 'FDA PRESS RELEASES - 1940.pdf', 'FDA PRESS RELEASES - 1941.pdf', 'FDA PRESS RELEASES - 1942.pdf', 'FDA PRESS RELEASES - 1951.pdf', 'FDA PRESS RELEASES - 1953.pdf', 'FDA PRESS RELEASES - 1954.pdf', 'FDA PRESS RELEASES - 1955.pdf', 'FDA PRESS RELEASES - 1956.pdf', 'FDA PRESS RELEASES - 1958.pdf', 'FDA PRESS RELEASES - 1959.pdf', 'FDA PRESS RELEASES - 1960.pdf', 'FDA PRESS RELEASES - 1962.pdf', 'FDA PRESS RELEASES - 1964.pdf', 'FDA PRESS RELEASES - 1967.pdf', 'FDA PRESS RELEASES - 1968.pdf', 'FDA PRESS RELEASES - 1970.pdf', 'FDA PRESS RELEASES - 1972.pdf', 'FDA PRESS RELEASES - 1973.pdf', 'FDA PRESS RELEASES - 1974.pdf', 'FDA PRESS RELEASES - 1975.pdf', 'FDA PRESS RELEASES - 1976.pdf', 'FDA PRESS RELEASES - 1977.pdf', 'FDA PRESS RELEASES - 1978.pdf', 'FDA PRESS RELEASES - 1979.pdf', 'FDA PRESS RELEASES - 1980.pdf', 'FDA PRESS RELEASES - 1981.pdf', 'FDA PRESS RELEASES - 1982.pdf', 'FDA PRESS RELEASES - 1983.pdf', 'FDA PRESS RELEASES - 1984.pdf', 'FDA PRESS RELEASES - 1985.pdf', 'FDA PRESS RELEASES - 1986.pdf', 'FDA PRESS RELEASES - 1987.pdf', 'FDA PRESS RELEASES - 1988.pdf', 'FDA PRESS RELEASES - 1989.pdf', 'FDA PRESS RELEASES - 1990.pdf', 'FDA PRESS RELEASES - 1991.pdf', 'FDA PRESS RELEASES - 1992.pdf', 'FDA PRESS RELEASES - 1993.pdf', 'FDA PRESS RELEASES - 1994.pdf', 'FDA PRESS RELEASES - 1995.pdf', 'FDA PRESS RELEASES - 1996.pdf', 'FDA PRESS RELEASES - 1997.pdf', 'FDA PRESS RELEASES - 1998.pdf', 'FDA PRESS RELEASES - 1999.pdf', 'FDA PRESS RELEASES - 2000.pdf', 'FDA PRESS RELEASES - 2001.pdf', 'FDA PRESS RELEASES - 2002.pdf', 'FDA PRESS RELEASES - 2003.pdf', 'FDA PRESS RELEASES - 2004.pdf', 'FDA PRESS RELEASES - 2005.pdf', 'FDA PRESS RELEASES - 2006.pdf', 'FDA PRESS RELEASES - 2007.pdf', 'FDA PRESS RELEASES - 2008.pdf', 'FDA PRESS RELEASES - 2009.pdf', 'FDA PRESS RELEASES - 2010.pdf', 'FDA PRESS RELEASES - 2011.pdf', 'FDA PRESS RELEASES - 2012.pdf', 'FDA PRESS RELEASES - 2013.pdf', 'FDA PRESS RELEASES - 2014.pdf', 'FDA TALK PAPERS - 1973.pdf', 'FDA TALK PAPERS - 1974.pdf', 'FDA TALK PAPERS - 1977.pdf', 'FDA TALK PAPERS - 1979.pdf', 'FDA TALK PAPERS - 1980.pdf', 'FDA TALK PAPERS - 1982.pdf', 'FDA TALK PAPERS - 1983.pdf', 'FDA TALK PAPERS - 1984.pdf', 'FDA TALK PAPERS - 1985.pdf', 'FDA TALK PAPERS - 1986.pdf', 'FDA TALK PAPERS - 1987.pdf', 'FDA TALK PAPERS - 1988.pdf', 'FDA TALK PAPERS -1989.pdf', 'FDA TALK PAPERS -1991.pdf', 'FDA TALK PAPERS -1992.pdf', 'FDA TALK PAPERS -1993.pdf', 'FDA TALK PAPERS -1994.pdf', 'FDA TALK PAPERS -1995.pdf', 'FDA TALK PAPERS -1996.pdf', 'FDA TALK PAPERS -1997.pdf', 'FDA TALK PAPERS -1998.pdf', 'FDA TALK PAPERS -1999.pdf', 'FDA TALK PAPERS -2000.pdf', 'FDA TALK PAPERS -2002.pdf', 'FDA TALK PAPERS -2003.pdf']}, 57: {'decade': [2000], 'number_of_docs': [1], 'appears_cnt': [1], 'documents': ['FDA PRESS RELEASES - 2009.pdf']}, 58: {'decade': [1960, 1970, 1980, 1990, 2000, 2010], 'number_of_docs': [3, 3, 4, 6, 8, 5], 'appears_cnt': [5, 7, 7, 9, 27, 17], 'documents': ['FDA PRESS RELEASES - 1961.pdf', 'FDA PRESS RELEASES - 1964.pdf', 'FDA PRESS RELEASES - 1965.pdf', 'FDA PRESS RELEASES - 1973.pdf', 'FDA PRESS RELEASES - 1974.pdf', 'FDA PRESS RELEASES - 1980.pdf', 'FDA PRESS RELEASES - 1982.pdf', 'FDA PRESS RELEASES - 1986.pdf', 'FDA PRESS RELEASES - 1990.pdf', 'FDA PRESS RELEASES - 1991.pdf', 'FDA PRESS RELEASES - 2004.pdf', 'FDA PRESS RELEASES - 2005.pdf', 'FDA PRESS RELEASES - 2006.pdf', 'FDA PRESS RELEASES - 2008.pdf', 'FDA PRESS RELEASES - 2009.pdf', 'FDA PRESS RELEASES - 2010.pdf', 'FDA PRESS RELEASES - 2011.pdf', 'FDA PRESS RELEASES - 2012.pdf', 'FDA PRESS RELEASES - 2013.pdf', 'FDA PRESS RELEASES - 2014.pdf', 'FDA TALK PAPERS - 1974.pdf', 'FDA TALK PAPERS - 1986.pdf', 'FDA TALK PAPERS -1993.pdf', 'FDA TALK PAPERS -1996.pdf', 'FDA TALK PAPERS -1998.pdf', 'FDA TALK PAPERS -1999.pdf', 'FDA TALK PAPERS -2000.pdf', 'FDA TALK PAPERS -2002.pdf', 'FDA TALK PAPERS -2003.pdf']}, 59: {'decade': [1930, 1950, 1960, 1970, 1980, 1990, 2000, 2010], 'number_of_docs': [2, 5, 1, 4, 9, 14, 8, 5], 'appears_cnt': [3, 9, 3, 6, 21, 45, 27, 42], 'documents': ['FDA PRESS RELEASES - 1935.pdf', 'FDA PRESS RELEASES - 1938.pdf', 'FDA PRESS RELEASES - 1953.pdf', 'FDA PRESS RELEASES - 1954.pdf', 'FDA PRESS RELEASES - 1955.pdf', 'FDA PRESS RELEASES - 1956.pdf', 'FDA PRESS RELEASES - 1958.pdf', 'FDA PRESS RELEASES - 1964.pdf', 'FDA PRESS RELEASES - 1980.pdf', 'FDA PRESS RELEASES - 1981.pdf', 'FDA PRESS RELEASES - 1982.pdf', 'FDA PRESS RELEASES - 1983.pdf', 'FDA PRESS RELEASES - 1985.pdf', 'FDA PRESS RELEASES - 1990.pdf', 'FDA PRESS RELEASES - 1991.pdf', 'FDA PRESS RELEASES - 1992.pdf', 'FDA PRESS RELEASES - 1993.pdf', 'FDA PRESS RELEASES - 1997.pdf', 'FDA PRESS RELEASES - 1999.pdf', 'FDA PRESS RELEASES - 2002.pdf', 'FDA PRESS RELEASES - 2003.pdf', 'FDA PRESS RELEASES - 2004.pdf', 'FDA PRESS RELEASES - 2005.pdf', 'FDA PRESS RELEASES - 2007.pdf', 'FDA PRESS RELEASES - 2010.pdf', 'FDA PRESS RELEASES - 2011.pdf', 'FDA PRESS RELEASES - 2012.pdf', 'FDA PRESS RELEASES - 2013.pdf', 'FDA PRESS RELEASES - 2014.pdf', 'FDA TALK PAPERS - 1974.pdf', 'FDA TALK PAPERS - 1975.pdf', 'FDA TALK PAPERS - 1976.pdf', 'FDA TALK PAPERS - 1979.pdf', 'FDA TALK PAPERS - 1984.pdf', 'FDA TALK PAPERS - 1985.pdf', 'FDA TALK PAPERS - 1986.pdf', 'FDA TALK PAPERS -1989.pdf', 'FDA TALK PAPERS -1990.pdf', 'FDA TALK PAPERS -1991.pdf', 'FDA TALK PAPERS -1993.pdf', 'FDA TALK PAPERS -1994.pdf', 'FDA TALK PAPERS -1995.pdf', 'FDA TALK PAPERS -1996.pdf', 'FDA TALK PAPERS -1997.pdf', 'FDA TALK PAPERS -1998.pdf', 'FDA TALK PAPERS -2000.pdf', 'FDA TALK PAPERS -2002.pdf', 'FDA TALK PAPERS -2003.pdf']}, 60: {'decade': [1950, 1980, 1990, 2000, 2010], 'number_of_docs': [1, 3, 4, 3, 4], 'appears_cnt': [1, 12, 5, 6, 11], 'documents': ['FDA PRESS RELEASES - 1956.pdf', 'FDA PRESS RELEASES - 1982.pdf', 'FDA PRESS RELEASES - 1992.pdf', 'FDA PRESS RELEASES - 1997.pdf', 'FDA PRESS RELEASES - 2007.pdf', 'FDA PRESS RELEASES - 2008.pdf', 'FDA PRESS RELEASES - 2009.pdf', 'FDA PRESS RELEASES - 2010.pdf', 'FDA PRESS RELEASES - 2012.pdf', 'FDA PRESS RELEASES - 2013.pdf', 'FDA PRESS RELEASES - 2014.pdf', 'FDA TALK PAPERS - 1985.pdf', 'FDA TALK PAPERS - 1987.pdf', 'FDA TALK PAPERS -1994.pdf', 'FDA TALK PAPERS -1998.pdf']}, 62: {'decade': [2010], 'number_of_docs': [1], 'appears_cnt': [1], 'documents': ['FDA PRESS RELEASES - 2010.pdf']}, 64: {'decade': [1920, 1930, 1950, 1960, 1970, 1980, 1990, 2000, 2010], 'number_of_docs': [1, 3, 5, 4, 1, 6, 11, 7, 5], 'appears_cnt': [1, 8, 7, 6, 1, 8, 22, 19, 47], 'documents': ['FDA PRESS RELEASES - 1923.pdf', 'FDA PRESS RELEASES - 1935.pdf', 'FDA PRESS RELEASES - 1936.pdf', 'FDA PRESS RELEASES - 1937.pdf', 'FDA PRESS RELEASES - 1951.pdf', 'FDA PRESS RELEASES - 1953.pdf', 'FDA PRESS RELEASES - 1955.pdf', 'FDA PRESS RELEASES - 1956.pdf', 'FDA PRESS RELEASES - 1959.pdf', 'FDA PRESS RELEASES - 1960.pdf', 'FDA PRESS RELEASES - 1961.pdf', 'FDA PRESS RELEASES - 1962.pdf', 'FDA PRESS RELEASES - 1964.pdf', 'FDA PRESS RELEASES - 1982.pdf', 'FDA PRESS RELEASES - 1985.pdf', 'FDA PRESS RELEASES - 1986.pdf', 'FDA PRESS RELEASES - 1989.pdf', 'FDA PRESS RELEASES - 1990.pdf', 'FDA PRESS RELEASES - 1997.pdf', 'FDA PRESS RELEASES - 1998.pdf', 'FDA PRESS RELEASES - 2003.pdf', 'FDA PRESS RELEASES - 2004.pdf', 'FDA PRESS RELEASES - 2006.pdf', 'FDA PRESS RELEASES - 2007.pdf', 'FDA PRESS RELEASES - 2008.pdf', 'FDA PRESS RELEASES - 2010.pdf', 'FDA PRESS RELEASES - 2011.pdf', 'FDA PRESS RELEASES - 2012.pdf', 'FDA PRESS RELEASES - 2013.pdf', 'FDA PRESS RELEASES - 2014.pdf', 'FDA TALK PAPERS - 1974.pdf', 'FDA TALK PAPERS - 1980.pdf', 'FDA TALK PAPERS - 1984.pdf', 'FDA TALK PAPERS -1990.pdf', 'FDA TALK PAPERS -1991.pdf', 'FDA TALK PAPERS -1992.pdf', 'FDA TALK PAPERS -1993.pdf', 'FDA TALK PAPERS -1994.pdf', 'FDA TALK PAPERS -1997.pdf', 'FDA TALK PAPERS -1998.pdf', 'FDA TALK PAPERS -1999.pdf', 'FDA TALK PAPERS -2000.pdf', 'FDA TALK PAPERS -2003.pdf']}, 71: {'decade': [1980, 1990, 2000, 2010], 'number_of_docs': [1, 1, 3, 4], 'appears_cnt': [1, 1, 4, 6], 'documents': ['FDA PRESS RELEASES - 1988.pdf', 'FDA PRESS RELEASES - 2005.pdf', 'FDA PRESS RELEASES - 2007.pdf', 'FDA PRESS RELEASES - 2011.pdf', 'FDA PRESS RELEASES - 2012.pdf', 'FDA PRESS RELEASES - 2013.pdf', 'FDA PRESS RELEASES - 2014.pdf', 'FDA TALK PAPERS -1994.pdf', 'FDA TALK PAPERS -2003.pdf']}, 72: {'decade': [1980, 1990, 2000], 'number_of_docs': [2, 8, 3], 'appears_cnt': [4, 8, 5], 'documents': ['FDA PRESS RELEASES - 1984.pdf', 'FDA PRESS RELEASES - 1986.pdf', 'FDA PRESS RELEASES - 1990.pdf', 'FDA PRESS RELEASES - 1992.pdf', 'FDA PRESS RELEASES - 1995.pdf', 'FDA PRESS RELEASES - 2006.pdf', 'FDA PRESS RELEASES - 2009.pdf', 'FDA TALK PAPERS -1992.pdf', 'FDA TALK PAPERS -1993.pdf', 'FDA TALK PAPERS -1994.pdf', 'FDA TALK PAPERS -1995.pdf', 'FDA TALK PAPERS -1996.pdf', 'FDA TALK PAPERS -2000.pdf']}, 74: {'decade': [1980, 2000, 2010], 'number_of_docs': [2, 1, 3], 'appears_cnt': [2, 1, 3], 'documents': ['FDA PRESS RELEASES - 1980.pdf', 'FDA PRESS RELEASES - 2009.pdf', 'FDA PRESS RELEASES - 2011.pdf', 'FDA PRESS RELEASES - 2012.pdf', 'FDA PRESS RELEASES - 2013.pdf', 'FDA TALK PAPERS - 1988.pdf']}, 75: {'decade': [1910, 1990], 'number_of_docs': [1, 2], 'appears_cnt': [1, 3], 'documents': ['FDA PRESS RELEASES - 1917.pdf', 'FDA PRESS RELEASES - 1995.pdf', 'FDA TALK PAPERS -1995.pdf']}, 76: {'decade': [1980, 1990, 2000, 2010], 'number_of_docs': [2, 5, 4, 5], 'appears_cnt': [4, 9, 16, 9], 'documents': ['FDA PRESS RELEASES - 1989.pdf', 'FDA PRESS RELEASES - 1990.pdf', 'FDA PRESS RELEASES - 2004.pdf', 'FDA PRESS RELEASES - 2006.pdf', 'FDA PRESS RELEASES - 2007.pdf', 'FDA PRESS RELEASES - 2009.pdf', 'FDA PRESS RELEASES - 2010.pdf', 'FDA PRESS RELEASES - 2011.pdf', 'FDA PRESS RELEASES - 2012.pdf', 'FDA PRESS RELEASES - 2013.pdf', 'FDA PRESS RELEASES - 2014.pdf', 'FDA TALK PAPERS -1989.pdf', 'FDA TALK PAPERS -1990.pdf', 'FDA TALK PAPERS -1991.pdf', 'FDA TALK PAPERS -1997.pdf', 'FDA TALK PAPERS -1998.pdf']}, 77: {'decade': [1970, 1980, 1990, 2000, 2010], 'number_of_docs': [3, 5, 5, 5, 1], 'appears_cnt': [6, 7, 8, 9, 1], 'documents': ['FDA PRESS RELEASES - 1974.pdf', 'FDA PRESS RELEASES - 1976.pdf', 'FDA PRESS RELEASES - 1980.pdf', 'FDA PRESS RELEASES - 1982.pdf', 'FDA PRESS RELEASES - 1985.pdf', 'FDA PRESS RELEASES - 1987.pdf', 'FDA PRESS RELEASES - 1992.pdf', 'FDA PRESS RELEASES - 1995.pdf', 'FDA PRESS RELEASES - 2006.pdf', 'FDA PRESS RELEASES - 2007.pdf', 'FDA PRESS RELEASES - 2008.pdf', 'FDA PRESS RELEASES - 2009.pdf', 'FDA PRESS RELEASES - 2011.pdf', 'FDA TALK PAPERS - 1975.pdf', 'FDA TALK PAPERS - 1988.pdf', 'FDA TALK PAPERS -1994.pdf', 'FDA TALK PAPERS -1995.pdf', 'FDA TALK PAPERS -1998.pdf', 'FDA TALK PAPERS -2000.pdf']}, 78: {'decade': [1910, 1920, 1930, 1940, 1950, 1960, 1970, 1980, 1990, 2000, 2010], 'number_of_docs': [2, 4, 5, 1, 2, 7, 13, 19, 20, 13, 5], 'appears_cnt': [2, 4, 8, 1, 2, 16, 36, 88, 118, 199, 214], 'documents': ['FDA PRESS RELEASES - 1913.pdf', 'FDA PRESS RELEASES - 1917.pdf', 'FDA PRESS RELEASES - 1922.pdf', 'FDA PRESS RELEASES - 1923.pdf', 'FDA PRESS RELEASES - 1928.pdf', 'FDA PRESS RELEASES - 1929.pdf', 'FDA PRESS RELEASES - 1930.pdf', 'FDA PRESS RELEASES - 1933.pdf', 'FDA PRESS RELEASES - 1935.pdf', 'FDA PRESS RELEASES - 1937.pdf', 'FDA PRESS RELEASES - 1938.pdf', 'FDA PRESS RELEASES - 1942.pdf', 'FDA PRESS RELEASES - 1954.pdf', 'FDA PRESS RELEASES - 1956.pdf', 'FDA PRESS RELEASES - 1961.pdf', 'FDA PRESS RELEASES - 1962.pdf', 'FDA PRESS RELEASES - 1963.pdf', 'FDA PRESS RELEASES - 1964.pdf', 'FDA PRESS RELEASES - 1965.pdf', 'FDA PRESS RELEASES - 1967.pdf', 'FDA PRESS RELEASES - 1969.pdf', 'FDA PRESS RELEASES - 1970.pdf', 'FDA PRESS RELEASES - 1971.pdf', 'FDA PRESS RELEASES - 1972.pdf', 'FDA PRESS RELEASES - 1973.pdf', 'FDA PRESS RELEASES - 1974.pdf', 'FDA PRESS RELEASES - 1975.pdf', 'FDA PRESS RELEASES - 1976.pdf', 'FDA PRESS RELEASES - 1977.pdf', 'FDA PRESS RELEASES - 1978.pdf', 'FDA PRESS RELEASES - 1979.pdf', 'FDA PRESS RELEASES - 1980.pdf', 'FDA PRESS RELEASES - 1981.pdf', 'FDA PRESS RELEASES - 1982.pdf', 'FDA PRESS RELEASES - 1983.pdf', 'FDA PRESS RELEASES - 1984.pdf', 'FDA PRESS RELEASES - 1985.pdf', 'FDA PRESS RELEASES - 1986.pdf', 'FDA PRESS RELEASES - 1987.pdf', 'FDA PRESS RELEASES - 1988.pdf', 'FDA PRESS RELEASES - 1989.pdf', 'FDA PRESS RELEASES - 1990.pdf', 'FDA PRESS RELEASES - 1991.pdf', 'FDA PRESS RELEASES - 1992.pdf', 'FDA PRESS RELEASES - 1993.pdf', 'FDA PRESS RELEASES - 1994.pdf', 'FDA PRESS RELEASES - 1995.pdf', 'FDA PRESS RELEASES - 1996.pdf', 'FDA PRESS RELEASES - 1997.pdf', 'FDA PRESS RELEASES - 1998.pdf', 'FDA PRESS RELEASES - 1999.pdf', 'FDA PRESS RELEASES - 2000.pdf', 'FDA PRESS RELEASES - 2001.pdf', 'FDA PRESS RELEASES - 2002.pdf', 'FDA PRESS RELEASES - 2003.pdf', 'FDA PRESS RELEASES - 2004.pdf', 'FDA PRESS RELEASES - 2005.pdf', 'FDA PRESS RELEASES - 2006.pdf', 'FDA PRESS RELEASES - 2007.pdf', 'FDA PRESS RELEASES - 2008.pdf', 'FDA PRESS RELEASES - 2009.pdf', 'FDA PRESS RELEASES - 2010.pdf', 'FDA PRESS RELEASES - 2011.pdf', 'FDA PRESS RELEASES - 2012.pdf', 'FDA PRESS RELEASES - 2013.pdf', 'FDA PRESS RELEASES - 2014.pdf', 'FDA TALK PAPERS - 1973.pdf', 'FDA TALK PAPERS - 1974.pdf', 'FDA TALK PAPERS - 1979.pdf', 'FDA TALK PAPERS - 1980.pdf', 'FDA TALK PAPERS - 1981.pdf', 'FDA TALK PAPERS - 1982.pdf', 'FDA TALK PAPERS - 1983.pdf', 'FDA TALK PAPERS - 1984.pdf', 'FDA TALK PAPERS - 1985.pdf', 'FDA TALK PAPERS - 1986.pdf', 'FDA TALK PAPERS - 1988.pdf', 'FDA TALK PAPERS -1989.pdf', 'FDA TALK PAPERS -1990.pdf', 'FDA TALK PAPERS -1991.pdf', 'FDA TALK PAPERS -1992.pdf', 'FDA TALK PAPERS -1993.pdf', 'FDA TALK PAPERS -1994.pdf', 'FDA TALK PAPERS -1995.pdf', 'FDA TALK PAPERS -1996.pdf', 'FDA TALK PAPERS -1997.pdf', 'FDA TALK PAPERS -1998.pdf', 'FDA TALK PAPERS -1999.pdf', 'FDA TALK PAPERS -2000.pdf', 'FDA TALK PAPERS -2002.pdf', 'FDA TALK PAPERS -2003.pdf']}, 81: {'decade': [2010], 'number_of_docs': [1], 'appears_cnt': [1], 'documents': ['FDA PRESS RELEASES - 2013.pdf']}, 82: {'decade': [2010], 'number_of_docs': [2], 'appears_cnt': [3], 'documents': ['FDA PRESS RELEASES - 2010.pdf', 'FDA PRESS RELEASES - 2013.pdf']}, 84: {'decade': [1910, 1930, 1950, 1960, 1970, 1980, 1990, 2000, 2010], 'number_of_docs': [2, 3, 1, 3, 4, 10, 6, 6, 5], 'appears_cnt': [2, 3, 1, 4, 10, 22, 11, 24, 72], 'documents': ['FDA PRESS RELEASES - 1913.pdf', 'FDA PRESS RELEASES - 1914.pdf', 'FDA PRESS RELEASES - 1930.pdf', 'FDA PRESS RELEASES - 1932.pdf', 'FDA PRESS RELEASES - 1933.pdf', 'FDA PRESS RELEASES - 1959.pdf', 'FDA PRESS RELEASES - 1964.pdf', 'FDA PRESS RELEASES - 1967.pdf', 'FDA PRESS RELEASES - 1968.pdf', 'FDA PRESS RELEASES - 1974.pdf', 'FDA PRESS RELEASES - 1977.pdf', 'FDA PRESS RELEASES - 1979.pdf', 'FDA PRESS RELEASES - 1980.pdf', 'FDA PRESS RELEASES - 1981.pdf', 'FDA PRESS RELEASES - 1982.pdf', 'FDA PRESS RELEASES - 1984.pdf', 'FDA PRESS RELEASES - 1985.pdf', 'FDA PRESS RELEASES - 1986.pdf', 'FDA PRESS RELEASES - 1988.pdf', 'FDA PRESS RELEASES - 1993.pdf', 'FDA PRESS RELEASES - 1994.pdf', 'FDA PRESS RELEASES - 1997.pdf', 'FDA PRESS RELEASES - 2004.pdf', 'FDA PRESS RELEASES - 2005.pdf', 'FDA PRESS RELEASES - 2007.pdf', 'FDA PRESS RELEASES - 2008.pdf', 'FDA PRESS RELEASES - 2009.pdf', 'FDA PRESS RELEASES - 2010.pdf', 'FDA PRESS RELEASES - 2011.pdf', 'FDA PRESS RELEASES - 2012.pdf', 'FDA PRESS RELEASES - 2013.pdf', 'FDA PRESS RELEASES - 2014.pdf', 'FDA TALK PAPERS - 1976.pdf', 'FDA TALK PAPERS - 1981.pdf', 'FDA TALK PAPERS - 1984.pdf', 'FDA TALK PAPERS - 1987.pdf', 'FDA TALK PAPERS -1992.pdf', 'FDA TALK PAPERS -1993.pdf', 'FDA TALK PAPERS -1996.pdf', 'FDA TALK PAPERS -2002.pdf']}, 85: {'decade': [1910, 1920, 1930, 1940, 1950, 1960, 1970, 1980, 1990, 2000, 2010], 'number_of_docs': [6, 10, 10, 3, 9, 9, 16, 20, 20, 13, 5], 'appears_cnt': [26, 126, 88, 4, 45, 108, 243, 242, 259, 473, 389], 'documents': ['FDA PRESS RELEASES - 1913.pdf', 'FDA PRESS RELEASES - 1914.pdf', 'FDA PRESS RELEASES - 1915.pdf', 'FDA PRESS RELEASES - 1916.pdf', 'FDA PRESS RELEASES - 1917.pdf', 'FDA PRESS RELEASES - 1919.pdf', 'FDA PRESS RELEASES - 1920.pdf', 'FDA PRESS RELEASES - 1921.pdf', 'FDA PRESS RELEASES - 1922.pdf', 'FDA PRESS RELEASES - 1923.pdf', 'FDA PRESS RELEASES - 1924.pdf', 'FDA PRESS RELEASES - 1925.pdf', 'FDA PRESS RELEASES - 1926.pdf', 'FDA PRESS RELEASES - 1927.pdf', 'FDA PRESS RELEASES - 1928.pdf', 'FDA PRESS RELEASES - 1929.pdf', 'FDA PRESS RELEASES - 1930.pdf', 'FDA PRESS RELEASES - 1931.pdf', 'FDA PRESS RELEASES - 1932.pdf', 'FDA PRESS RELEASES - 1933.pdf', 'FDA PRESS RELEASES - 1934.pdf', 'FDA PRESS RELEASES - 1935.pdf', 'FDA PRESS RELEASES - 1936.pdf', 'FDA PRESS RELEASES - 1937.pdf', 'FDA PRESS RELEASES - 1938.pdf', 'FDA PRESS RELEASES - 1939.pdf', 'FDA PRESS RELEASES - 1940.pdf', 'FDA PRESS RELEASES - 1941.pdf', 'FDA PRESS RELEASES - 1948.pdf', 'FDA PRESS RELEASES - 1950.pdf', 'FDA PRESS RELEASES - 1951.pdf', 'FDA PRESS RELEASES - 1953.pdf', 'FDA PRESS RELEASES - 1954.pdf', 'FDA PRESS RELEASES - 1955.pdf', 'FDA PRESS RELEASES - 1956.pdf', 'FDA PRESS RELEASES - 1957.pdf', 'FDA PRESS RELEASES - 1958.pdf', 'FDA PRESS RELEASES - 1959.pdf', 'FDA PRESS RELEASES - 1960.pdf', 'FDA PRESS RELEASES - 1961.pdf', 'FDA PRESS RELEASES - 1962.pdf', 'FDA PRESS RELEASES - 1963.pdf', 'FDA PRESS RELEASES - 1964.pdf', 'FDA PRESS RELEASES - 1965.pdf', 'FDA PRESS RELEASES - 1967.pdf', 'FDA PRESS RELEASES - 1968.pdf', 'FDA PRESS RELEASES - 1969.pdf', 'FDA PRESS RELEASES - 1970.pdf', 'FDA PRESS RELEASES - 1971.pdf', 'FDA PRESS RELEASES - 1972.pdf', 'FDA PRESS RELEASES - 1973.pdf', 'FDA PRESS RELEASES - 1974.pdf', 'FDA PRESS RELEASES - 1975.pdf', 'FDA PRESS RELEASES - 1976.pdf', 'FDA PRESS RELEASES - 1977.pdf', 'FDA PRESS RELEASES - 1978.pdf', 'FDA PRESS RELEASES - 1979.pdf', 'FDA PRESS RELEASES - 1980.pdf', 'FDA PRESS RELEASES - 1981.pdf', 'FDA PRESS RELEASES - 1982.pdf', 'FDA PRESS RELEASES - 1983.pdf', 'FDA PRESS RELEASES - 1984.pdf', 'FDA PRESS RELEASES - 1985.pdf', 'FDA PRESS RELEASES - 1986.pdf', 'FDA PRESS RELEASES - 1987.pdf', 'FDA PRESS RELEASES - 1988.pdf', 'FDA PRESS RELEASES - 1989.pdf', 'FDA PRESS RELEASES - 1990.pdf', 'FDA PRESS RELEASES - 1991.pdf', 'FDA PRESS RELEASES - 1992.pdf', 'FDA PRESS RELEASES - 1993.pdf', 'FDA PRESS RELEASES - 1994.pdf', 'FDA PRESS RELEASES - 1995.pdf', 'FDA PRESS RELEASES - 1996.pdf', 'FDA PRESS RELEASES - 1997.pdf', 'FDA PRESS RELEASES - 1998.pdf', 'FDA PRESS RELEASES - 1999.pdf', 'FDA PRESS RELEASES - 2000.pdf', 'FDA PRESS RELEASES - 2001.pdf', 'FDA PRESS RELEASES - 2002.pdf', 'FDA PRESS RELEASES - 2003.pdf', 'FDA PRESS RELEASES - 2004.pdf', 'FDA PRESS RELEASES - 2005.pdf', 'FDA PRESS RELEASES - 2006.pdf', 'FDA PRESS RELEASES - 2007.pdf', 'FDA PRESS RELEASES - 2008.pdf', 'FDA PRESS RELEASES - 2009.pdf', 'FDA PRESS RELEASES - 2010.pdf', 'FDA PRESS RELEASES - 2011.pdf', 'FDA PRESS RELEASES - 2012.pdf', 'FDA PRESS RELEASES - 2013.pdf', 'FDA PRESS RELEASES - 2014.pdf', 'FDA TALK PAPERS - 1973.pdf', 'FDA TALK PAPERS - 1974.pdf', 'FDA TALK PAPERS - 1975.pdf', 'FDA TALK PAPERS - 1976.pdf', 'FDA TALK PAPERS - 1978.pdf', 'FDA TALK PAPERS - 1979.pdf', 'FDA TALK PAPERS - 1980.pdf', 'FDA TALK PAPERS - 1981.pdf', 'FDA TALK PAPERS - 1982.pdf', 'FDA TALK PAPERS - 1983.pdf', 'FDA TALK PAPERS - 1984.pdf', 'FDA TALK PAPERS - 1985.pdf', 'FDA TALK PAPERS - 1986.pdf', 'FDA TALK PAPERS - 1987.pdf', 'FDA TALK PAPERS - 1988.pdf', 'FDA TALK PAPERS -1989.pdf', 'FDA TALK PAPERS -1990.pdf', 'FDA TALK PAPERS -1991.pdf', 'FDA TALK PAPERS -1992.pdf', 'FDA TALK PAPERS -1993.pdf', 'FDA TALK PAPERS -1994.pdf', 'FDA TALK PAPERS -1995.pdf', 'FDA TALK PAPERS -1996.pdf', 'FDA TALK PAPERS -1997.pdf', 'FDA TALK PAPERS -1998.pdf', 'FDA TALK PAPERS -1999.pdf', 'FDA TALK PAPERS -2000.pdf', 'FDA TALK PAPERS -2002.pdf', 'FDA TALK PAPERS -2003.pdf']}, 86: {'decade': [2010], 'number_of_docs': [2], 'appears_cnt': [2], 'documents': ['FDA PRESS RELEASES - 2012.pdf', 'FDA PRESS RELEASES - 2013.pdf']}, 87: {'decade': [1970, 1980, 1990, 2000, 2010], 'number_of_docs': [1, 5, 4, 5, 2], 'appears_cnt': [1, 5, 6, 6, 2], 'documents': ['FDA PRESS RELEASES - 1978.pdf', 'FDA PRESS RELEASES - 1980.pdf', 'FDA PRESS RELEASES - 1987.pdf', 'FDA PRESS RELEASES - 1988.pdf', 'FDA PRESS RELEASES - 1989.pdf', 'FDA PRESS RELEASES - 1992.pdf', 'FDA PRESS RELEASES - 1996.pdf', 'FDA PRESS RELEASES - 2003.pdf', 'FDA PRESS RELEASES - 2006.pdf', 'FDA PRESS RELEASES - 2007.pdf', 'FDA PRESS RELEASES - 2008.pdf', 'FDA PRESS RELEASES - 2009.pdf', 'FDA PRESS RELEASES - 2010.pdf', 'FDA PRESS RELEASES - 2014.pdf', 'FDA TALK PAPERS - 1988.pdf', 'FDA TALK PAPERS -1995.pdf', 'FDA TALK PAPERS -1996.pdf']}, 88: {'decade': [2010], 'number_of_docs': [1], 'appears_cnt': [1], 'documents': ['FDA PRESS RELEASES - 2012.pdf']}, 89: {'decade': [1910, 1920, 1930, 1940, 1950, 1960, 1970, 1980, 1990, 2000, 2010], 'number_of_docs': [1, 2, 7, 1, 4, 4, 3, 15, 13, 10, 5], 'appears_cnt': [3, 9, 45, 1, 10, 6, 13, 158, 110, 42, 41], 'documents': ['FDA PRESS RELEASES - 1915.pdf', 'FDA PRESS RELEASES - 1920.pdf', 'FDA PRESS RELEASES - 1929.pdf', 'FDA PRESS RELEASES - 1931.pdf', 'FDA PRESS RELEASES - 1932.pdf', 'FDA PRESS RELEASES - 1934.pdf', 'FDA PRESS RELEASES - 1935.pdf', 'FDA PRESS RELEASES - 1936.pdf', 'FDA PRESS RELEASES - 1937.pdf', 'FDA PRESS RELEASES - 1938.pdf', 'FDA PRESS RELEASES - 1941.pdf', 'FDA PRESS RELEASES - 1951.pdf', 'FDA PRESS RELEASES - 1953.pdf', 'FDA PRESS RELEASES - 1956.pdf', 'FDA PRESS RELEASES - 1958.pdf', 'FDA PRESS RELEASES - 1961.pdf', 'FDA PRESS RELEASES - 1962.pdf', 'FDA PRESS RELEASES - 1963.pdf', 'FDA PRESS RELEASES - 1964.pdf', 'FDA PRESS RELEASES - 1972.pdf', 'FDA PRESS RELEASES - 1973.pdf', 'FDA PRESS RELEASES - 1977.pdf', 'FDA PRESS RELEASES - 1981.pdf', 'FDA PRESS RELEASES - 1982.pdf', 'FDA PRESS RELEASES - 1983.pdf', 'FDA PRESS RELEASES - 1984.pdf', 'FDA PRESS RELEASES - 1985.pdf', 'FDA PRESS RELEASES - 1986.pdf', 'FDA PRESS RELEASES - 1987.pdf', 'FDA PRESS RELEASES - 1988.pdf', 'FDA PRESS RELEASES - 1989.pdf', 'FDA PRESS RELEASES - 1990.pdf', 'FDA PRESS RELEASES - 1991.pdf', 'FDA PRESS RELEASES - 1992.pdf', 'FDA PRESS RELEASES - 1993.pdf', 'FDA PRESS RELEASES - 1994.pdf', 'FDA PRESS RELEASES - 1995.pdf', 'FDA PRESS RELEASES - 1997.pdf', 'FDA PRESS RELEASES - 2000.pdf', 'FDA PRESS RELEASES - 2002.pdf', 'FDA PRESS RELEASES - 2003.pdf', 'FDA PRESS RELEASES - 2004.pdf', 'FDA PRESS RELEASES - 2006.pdf', 'FDA PRESS RELEASES - 2007.pdf', 'FDA PRESS RELEASES - 2008.pdf', 'FDA PRESS RELEASES - 2009.pdf', 'FDA PRESS RELEASES - 2010.pdf', 'FDA PRESS RELEASES - 2011.pdf', 'FDA PRESS RELEASES - 2012.pdf', 'FDA PRESS RELEASES - 2013.pdf', 'FDA PRESS RELEASES - 2014.pdf', 'FDA TALK PAPERS - 1982.pdf', 'FDA TALK PAPERS - 1983.pdf', 'FDA TALK PAPERS - 1985.pdf', 'FDA TALK PAPERS - 1987.pdf', 'FDA TALK PAPERS - 1988.pdf', 'FDA TALK PAPERS -1989.pdf', 'FDA TALK PAPERS -1990.pdf', 'FDA TALK PAPERS -1991.pdf', 'FDA TALK PAPERS -1992.pdf', 'FDA TALK PAPERS -1993.pdf', 'FDA TALK PAPERS -1998.pdf', 'FDA TALK PAPERS -1999.pdf', 'FDA TALK PAPERS -2000.pdf', 'FDA TALK PAPERS -2003.pdf']}, 91: {'decade': [1990, 2010], 'number_of_docs': [1, 4], 'appears_cnt': [1, 6], 'documents': ['FDA PRESS RELEASES - 2010.pdf', 'FDA PRESS RELEASES - 2011.pdf', 'FDA PRESS RELEASES - 2013.pdf', 'FDA PRESS RELEASES - 2014.pdf', 'FDA TALK PAPERS -1996.pdf']}, 92: {'decade': [1960, 1970, 1980, 1990, 2000, 2010], 'number_of_docs': [3, 1, 1, 1, 2, 4], 'appears_cnt': [6, 1, 1, 1, 2, 6], 'documents': ['FDA PRESS RELEASES - 1963.pdf', 'FDA PRESS RELEASES - 1965.pdf', 'FDA PRESS RELEASES - 1968.pdf', 'FDA PRESS RELEASES - 1976.pdf', 'FDA PRESS RELEASES - 1982.pdf', 'FDA PRESS RELEASES - 1991.pdf', 'FDA PRESS RELEASES - 2008.pdf', 'FDA PRESS RELEASES - 2009.pdf', 'FDA PRESS RELEASES - 2010.pdf', 'FDA PRESS RELEASES - 2011.pdf', 'FDA PRESS RELEASES - 2012.pdf', 'FDA PRESS RELEASES - 2013.pdf']}, 93: {'decade': [2000, 2010], 'number_of_docs': [1, 3], 'appears_cnt': [1, 10], 'documents': ['FDA PRESS RELEASES - 2009.pdf', 'FDA PRESS RELEASES - 2011.pdf', 'FDA PRESS RELEASES - 2013.pdf', 'FDA PRESS RELEASES - 2014.pdf']}, 94: {'decade': [1910, 1920, 1930, 1950, 1960, 1970, 1980, 1990, 2000, 2010], 'number_of_docs': [3, 3, 4, 4, 6, 12, 16, 17, 12, 5], 'appears_cnt': [3, 6, 5, 4, 14, 22, 40, 57, 91, 96], 'documents': ['FDA PRESS RELEASES - 1915.pdf', 'FDA PRESS RELEASES - 1918.pdf', 'FDA PRESS RELEASES - 1919.pdf', 'FDA PRESS RELEASES - 1920.pdf', 'FDA PRESS RELEASES - 1924.pdf', 'FDA PRESS RELEASES - 1925.pdf', 'FDA PRESS RELEASES - 1931.pdf', 'FDA PRESS RELEASES - 1935.pdf', 'FDA PRESS RELEASES - 1936.pdf', 'FDA PRESS RELEASES - 1937.pdf', 'FDA PRESS RELEASES - 1954.pdf', 'FDA PRESS RELEASES - 1955.pdf', 'FDA PRESS RELEASES - 1958.pdf', 'FDA PRESS RELEASES - 1959.pdf', 'FDA PRESS RELEASES - 1960.pdf', 'FDA PRESS RELEASES - 1962.pdf', 'FDA PRESS RELEASES - 1963.pdf', 'FDA PRESS RELEASES - 1964.pdf', 'FDA PRESS RELEASES - 1967.pdf', 'FDA PRESS RELEASES - 1969.pdf', 'FDA PRESS RELEASES - 1970.pdf', 'FDA PRESS RELEASES - 1971.pdf', 'FDA PRESS RELEASES - 1972.pdf', 'FDA PRESS RELEASES - 1973.pdf', 'FDA PRESS RELEASES - 1974.pdf', 'FDA PRESS RELEASES - 1975.pdf', 'FDA PRESS RELEASES - 1977.pdf', 'FDA PRESS RELEASES - 1978.pdf', 'FDA PRESS RELEASES - 1979.pdf', 'FDA PRESS RELEASES - 1980.pdf', 'FDA PRESS RELEASES - 1981.pdf', 'FDA PRESS RELEASES - 1982.pdf', 'FDA PRESS RELEASES - 1984.pdf', 'FDA PRESS RELEASES - 1985.pdf', 'FDA PRESS RELEASES - 1986.pdf', 'FDA PRESS RELEASES - 1987.pdf', 'FDA PRESS RELEASES - 1988.pdf', 'FDA PRESS RELEASES - 1989.pdf', 'FDA PRESS RELEASES - 1990.pdf', 'FDA PRESS RELEASES - 1991.pdf', 'FDA PRESS RELEASES - 1992.pdf', 'FDA PRESS RELEASES - 1993.pdf', 'FDA PRESS RELEASES - 1995.pdf', 'FDA PRESS RELEASES - 1997.pdf', 'FDA PRESS RELEASES - 1998.pdf', 'FDA PRESS RELEASES - 1999.pdf', 'FDA PRESS RELEASES - 2001.pdf', 'FDA PRESS RELEASES - 2002.pdf', 'FDA PRESS RELEASES - 2003.pdf', 'FDA PRESS RELEASES - 2004.pdf', 'FDA PRESS RELEASES - 2005.pdf', 'FDA PRESS RELEASES - 2006.pdf', 'FDA PRESS RELEASES - 2007.pdf', 'FDA PRESS RELEASES - 2008.pdf', 'FDA PRESS RELEASES - 2009.pdf', 'FDA PRESS RELEASES - 2010.pdf', 'FDA PRESS RELEASES - 2011.pdf', 'FDA PRESS RELEASES - 2012.pdf', 'FDA PRESS RELEASES - 2013.pdf', 'FDA PRESS RELEASES - 2014.pdf', 'FDA TALK PAPERS - 1973.pdf', 'FDA TALK PAPERS - 1976.pdf', 'FDA TALK PAPERS - 1979.pdf', 'FDA TALK PAPERS - 1982.pdf', 'FDA TALK PAPERS - 1983.pdf', 'FDA TALK PAPERS - 1984.pdf', 'FDA TALK PAPERS - 1985.pdf', 'FDA TALK PAPERS - 1986.pdf', 'FDA TALK PAPERS - 1988.pdf', 'FDA TALK PAPERS -1989.pdf', 'FDA TALK PAPERS -1990.pdf', 'FDA TALK PAPERS -1991.pdf', 'FDA TALK PAPERS -1992.pdf', 'FDA TALK PAPERS -1994.pdf', 'FDA TALK PAPERS -1995.pdf', 'FDA TALK PAPERS -1996.pdf', 'FDA TALK PAPERS -1997.pdf', 'FDA TALK PAPERS -1998.pdf', 'FDA TALK PAPERS -1999.pdf', 'FDA TALK PAPERS -2000.pdf', 'FDA TALK PAPERS -2002.pdf', 'FDA TALK PAPERS -2003.pdf']}, 95: {'decade': [1970, 1980, 1990, 2000, 2010], 'number_of_docs': [1, 2, 3, 3, 1], 'appears_cnt': [2, 3, 3, 4, 1], 'documents': ['FDA PRESS RELEASES - 1974.pdf', 'FDA PRESS RELEASES - 1989.pdf', 'FDA PRESS RELEASES - 1991.pdf', 'FDA PRESS RELEASES - 2008.pdf', 'FDA PRESS RELEASES - 2010.pdf', 'FDA TALK PAPERS -1989.pdf', 'FDA TALK PAPERS -1990.pdf', 'FDA TALK PAPERS -1998.pdf', 'FDA TALK PAPERS -2002.pdf', 'FDA TALK PAPERS -2003.pdf']}, 96: {'decade': [1970, 1980, 1990, 2000, 2010], 'number_of_docs': [1, 1, 1, 4, 3], 'appears_cnt': [1, 1, 1, 7, 7], 'documents': ['FDA PRESS RELEASES - 1970.pdf', 'FDA PRESS RELEASES - 1981.pdf', 'FDA PRESS RELEASES - 1992.pdf', 'FDA PRESS RELEASES - 2003.pdf', 'FDA PRESS RELEASES - 2006.pdf', 'FDA PRESS RELEASES - 2008.pdf', 'FDA PRESS RELEASES - 2010.pdf', 'FDA PRESS RELEASES - 2011.pdf', 'FDA PRESS RELEASES - 2014.pdf', 'FDA TALK PAPERS -2000.pdf']}, 99: {'decade': [1950, 1970, 1980, 1990, 2000, 2010], 'number_of_docs': [1, 2, 1, 2, 9, 5], 'appears_cnt': [1, 2, 1, 6, 28, 7], 'documents': ['FDA PRESS RELEASES - 1956.pdf', 'FDA PRESS RELEASES - 1972.pdf', 'FDA PRESS RELEASES - 1977.pdf', 'FDA PRESS RELEASES - 2001.pdf', 'FDA PRESS RELEASES - 2002.pdf', 'FDA PRESS RELEASES - 2004.pdf', 'FDA PRESS RELEASES - 2005.pdf', 'FDA PRESS RELEASES - 2006.pdf', 'FDA PRESS RELEASES - 2007.pdf', 'FDA PRESS RELEASES - 2008.pdf', 'FDA PRESS RELEASES - 2009.pdf', 'FDA PRESS RELEASES - 2010.pdf', 'FDA PRESS RELEASES - 2011.pdf', 'FDA PRESS RELEASES - 2012.pdf', 'FDA PRESS RELEASES - 2013.pdf', 'FDA PRESS RELEASES - 2014.pdf', 'FDA TALK PAPERS - 1986.pdf', 'FDA TALK PAPERS -1996.pdf', 'FDA TALK PAPERS -1999.pdf', 'FDA TALK PAPERS -2002.pdf']}, 102: {'decade': [1990, 2000, 2010], 'number_of_docs': [1, 3, 3], 'appears_cnt': [2, 3, 3], 'documents': ['FDA PRESS RELEASES - 2004.pdf', 'FDA PRESS RELEASES - 2009.pdf', 'FDA PRESS RELEASES - 2011.pdf', 'FDA PRESS RELEASES - 2013.pdf', 'FDA PRESS RELEASES - 2014.pdf', 'FDA TALK PAPERS -1999.pdf', 'FDA TALK PAPERS -2003.pdf']}, 104: {'decade': [1980, 1990, 2000], 'number_of_docs': [1, 1, 1], 'appears_cnt': [2, 2, 2], 'documents': ['FDA PRESS RELEASES - 1982.pdf', 'FDA PRESS RELEASES - 2008.pdf', 'FDA TALK PAPERS -1996.pdf']}, 105: {'decade': [1970, 1980, 1990, 2000, 2010], 'number_of_docs': [1, 3, 1, 4, 2], 'appears_cnt': [6, 8, 1, 6, 4], 'documents': ['FDA PRESS RELEASES - 1974.pdf', 'FDA PRESS RELEASES - 1985.pdf', 'FDA PRESS RELEASES - 2008.pdf', 'FDA PRESS RELEASES - 2009.pdf', 'FDA PRESS RELEASES - 2012.pdf', 'FDA PRESS RELEASES - 2014.pdf', 'FDA TALK PAPERS - 1985.pdf', 'FDA TALK PAPERS -1989.pdf', 'FDA TALK PAPERS -1996.pdf', 'FDA TALK PAPERS -2000.pdf', 'FDA TALK PAPERS -2003.pdf']}, 107: {'decade': [1960, 1980, 1990, 2000, 2010], 'number_of_docs': [1, 1, 3, 5, 5], 'appears_cnt': [1, 1, 3, 9, 17], 'documents': ['FDA PRESS RELEASES - 1961.pdf', 'FDA PRESS RELEASES - 1996.pdf', 'FDA PRESS RELEASES - 2004.pdf', 'FDA PRESS RELEASES - 2005.pdf', 'FDA PRESS RELEASES - 2006.pdf', 'FDA PRESS RELEASES - 2008.pdf', 'FDA PRESS RELEASES - 2010.pdf', 'FDA PRESS RELEASES - 2011.pdf', 'FDA PRESS RELEASES - 2012.pdf', 'FDA PRESS RELEASES - 2013.pdf', 'FDA PRESS RELEASES - 2014.pdf', 'FDA TALK PAPERS - 1985.pdf', 'FDA TALK PAPERS -1995.pdf', 'FDA TALK PAPERS -1996.pdf', 'FDA TALK PAPERS -2003.pdf']}, 109: {'decade': [1970, 1980, 1990, 2000, 2010], 'number_of_docs': [1, 6, 7, 5, 3], 'appears_cnt': [1, 6, 31, 10, 4], 'documents': ['FDA PRESS RELEASES - 1970.pdf', 'FDA PRESS RELEASES - 1980.pdf', 'FDA PRESS RELEASES - 1982.pdf', 'FDA PRESS RELEASES - 1985.pdf', 'FDA PRESS RELEASES - 1986.pdf', 'FDA PRESS RELEASES - 1989.pdf', 'FDA PRESS RELEASES - 1990.pdf', 'FDA PRESS RELEASES - 1991.pdf', 'FDA PRESS RELEASES - 1996.pdf', 'FDA PRESS RELEASES - 1997.pdf', 'FDA PRESS RELEASES - 2003.pdf', 'FDA PRESS RELEASES - 2006.pdf', 'FDA PRESS RELEASES - 2007.pdf', 'FDA PRESS RELEASES - 2010.pdf', 'FDA PRESS RELEASES - 2011.pdf', 'FDA PRESS RELEASES - 2014.pdf', 'FDA TALK PAPERS - 1988.pdf', 'FDA TALK PAPERS -1991.pdf', 'FDA TALK PAPERS -1994.pdf', 'FDA TALK PAPERS -1997.pdf', 'FDA TALK PAPERS -2002.pdf', 'FDA TALK PAPERS -2003.pdf']}, 112: {'decade': [1960, 1970, 1980, 1990, 2000, 2010], 'number_of_docs': [2, 1, 2, 3, 4, 5], 'appears_cnt': [3, 6, 2, 4, 7, 22], 'documents': ['FDA PRESS RELEASES - 1963.pdf', 'FDA PRESS RELEASES - 1969.pdf', 'FDA PRESS RELEASES - 1972.pdf', 'FDA PRESS RELEASES - 1981.pdf', 'FDA PRESS RELEASES - 1984.pdf', 'FDA PRESS RELEASES - 1990.pdf', 'FDA PRESS RELEASES - 1993.pdf', 'FDA PRESS RELEASES - 2006.pdf', 'FDA PRESS RELEASES - 2007.pdf', 'FDA PRESS RELEASES - 2008.pdf', 'FDA PRESS RELEASES - 2010.pdf', 'FDA PRESS RELEASES - 2011.pdf', 'FDA PRESS RELEASES - 2012.pdf', 'FDA PRESS RELEASES - 2013.pdf', 'FDA PRESS RELEASES - 2014.pdf', 'FDA TALK PAPERS -1996.pdf', 'FDA TALK PAPERS -2000.pdf']}, 113: {'decade': [1920, 1930, 1940, 1950, 1960, 1970, 1980, 1990, 2000, 2010], 'number_of_docs': [2, 3, 1, 2, 6, 12, 18, 19, 13, 5], 'appears_cnt': [3, 3, 1, 2, 20, 42, 100, 87, 180, 142], 'documents': ['FDA PRESS RELEASES - 1923.pdf', 'FDA PRESS RELEASES - 1928.pdf', 'FDA PRESS RELEASES - 1930.pdf', 'FDA PRESS RELEASES - 1933.pdf', 'FDA PRESS RELEASES - 1937.pdf', 'FDA PRESS RELEASES - 1942.pdf', 'FDA PRESS RELEASES - 1953.pdf', 'FDA PRESS RELEASES - 1954.pdf', 'FDA PRESS RELEASES - 1961.pdf', 'FDA PRESS RELEASES - 1962.pdf', 'FDA PRESS RELEASES - 1964.pdf', 'FDA PRESS RELEASES - 1965.pdf', 'FDA PRESS RELEASES - 1967.pdf', 'FDA PRESS RELEASES - 1969.pdf', 'FDA PRESS RELEASES - 1970.pdf', 'FDA PRESS RELEASES - 1971.pdf', 'FDA PRESS RELEASES - 1973.pdf', 'FDA PRESS RELEASES - 1974.pdf', 'FDA PRESS RELEASES - 1975.pdf', 'FDA PRESS RELEASES - 1976.pdf', 'FDA PRESS RELEASES - 1977.pdf', 'FDA PRESS RELEASES - 1978.pdf', 'FDA PRESS RELEASES - 1979.pdf', 'FDA PRESS RELEASES - 1980.pdf', 'FDA PRESS RELEASES - 1981.pdf', 'FDA PRESS RELEASES - 1982.pdf', 'FDA PRESS RELEASES - 1984.pdf', 'FDA PRESS RELEASES - 1985.pdf', 'FDA PRESS RELEASES - 1986.pdf', 'FDA PRESS RELEASES - 1987.pdf', 'FDA PRESS RELEASES - 1988.pdf', 'FDA PRESS RELEASES - 1989.pdf', 'FDA PRESS RELEASES - 1990.pdf', 'FDA PRESS RELEASES - 1991.pdf', 'FDA PRESS RELEASES - 1992.pdf', 'FDA PRESS RELEASES - 1993.pdf', 'FDA PRESS RELEASES - 1994.pdf', 'FDA PRESS RELEASES - 1995.pdf', 'FDA PRESS RELEASES - 1996.pdf', 'FDA PRESS RELEASES - 1997.pdf', 'FDA PRESS RELEASES - 1998.pdf', 'FDA PRESS RELEASES - 1999.pdf', 'FDA PRESS RELEASES - 2000.pdf', 'FDA PRESS RELEASES - 2001.pdf', 'FDA PRESS RELEASES - 2002.pdf', 'FDA PRESS RELEASES - 2003.pdf', 'FDA PRESS RELEASES - 2004.pdf', 'FDA PRESS RELEASES - 2005.pdf', 'FDA PRESS RELEASES - 2006.pdf', 'FDA PRESS RELEASES - 2007.pdf', 'FDA PRESS RELEASES - 2008.pdf', 'FDA PRESS RELEASES - 2009.pdf', 'FDA PRESS RELEASES - 2010.pdf', 'FDA PRESS RELEASES - 2011.pdf', 'FDA PRESS RELEASES - 2012.pdf', 'FDA PRESS RELEASES - 2013.pdf', 'FDA PRESS RELEASES - 2014.pdf', 'FDA TALK PAPERS - 1973.pdf', 'FDA TALK PAPERS - 1978.pdf', 'FDA TALK PAPERS - 1979.pdf', 'FDA TALK PAPERS - 1980.pdf', 'FDA TALK PAPERS - 1981.pdf', 'FDA TALK PAPERS - 1982.pdf', 'FDA TALK PAPERS - 1983.pdf', 'FDA TALK PAPERS - 1984.pdf', 'FDA TALK PAPERS - 1985.pdf', 'FDA TALK PAPERS - 1986.pdf', 'FDA TALK PAPERS - 1988.pdf', 'FDA TALK PAPERS -1989.pdf', 'FDA TALK PAPERS -1990.pdf', 'FDA TALK PAPERS -1991.pdf', 'FDA TALK PAPERS -1992.pdf', 'FDA TALK PAPERS -1994.pdf', 'FDA TALK PAPERS -1995.pdf', 'FDA TALK PAPERS -1996.pdf', 'FDA TALK PAPERS -1997.pdf', 'FDA TALK PAPERS -1998.pdf', 'FDA TALK PAPERS -1999.pdf', 'FDA TALK PAPERS -2000.pdf', 'FDA TALK PAPERS -2002.pdf', 'FDA TALK PAPERS -2003.pdf']}, 116: {'decade': [1910], 'number_of_docs': [1], 'appears_cnt': [2], 'documents': ['FDA PRESS RELEASES - 1915.pdf']}}\""
      ]
     },
     "execution_count": 50,
     "metadata": {},
     "output_type": "execute_result"
    }
   ],
   "source": [
    "dict.__repr__(myDict)"
   ]
  },
  {
   "cell_type": "code",
   "execution_count": null,
   "metadata": {},
   "outputs": [],
   "source": [
    "df = pd.DataFrame()"
   ]
  },
  {
   "cell_type": "code",
   "execution_count": null,
   "metadata": {},
   "outputs": [],
   "source": [
    "ae_data"
   ]
  },
  {
   "cell_type": "code",
   "execution_count": null,
   "metadata": {},
   "outputs": [],
   "source": [
    "ae_data.colums = ['decade','ae']"
   ]
  },
  {
   "cell_type": "code",
   "execution_count": null,
   "metadata": {},
   "outputs": [],
   "source": [
    "decade = ae_data[ae_data['id']==3]['decade'].values\n",
    "decade = ae_data[ae_data['id']==3]['decade'].values"
   ]
  },
  {
   "cell_type": "code",
   "execution_count": null,
   "metadata": {},
   "outputs": [],
   "source": [
    "ae_data"
   ]
  },
  {
   "cell_type": "code",
   "execution_count": null,
   "metadata": {},
   "outputs": [],
   "source": [
    "import csv\n",
    "ae_json.to_csv(r'/Users/josh.smitherman/Downloads/ae_json.csv', index=None, quoting=csv.QUOTE_ALL)\n",
    "ae_json.to_json('/Users/josh.smitherman/Downloads/ae_json2.json',orient='records') "
   ]
  },
  {
   "cell_type": "code",
   "execution_count": null,
   "metadata": {},
   "outputs": [],
   "source": []
  },
  {
   "cell_type": "code",
   "execution_count": null,
   "metadata": {},
   "outputs": [],
   "source": []
  },
  {
   "cell_type": "code",
   "execution_count": null,
   "metadata": {},
   "outputs": [],
   "source": [
    "ae_docDF_agg.shape"
   ]
  },
  {
   "cell_type": "code",
   "execution_count": null,
   "metadata": {},
   "outputs": [],
   "source": [
    "ae_docDF_agg_chart_data = ae_docDF_agg.groupby(['decade','ae']).agg({'file_name':'nunique',\n",
    "                                                                     'appears_cnt':'sum'}).reset_index()"
   ]
  },
  {
   "cell_type": "code",
   "execution_count": null,
   "metadata": {},
   "outputs": [],
   "source": [
    "ae_docDF_agg_chart_data.columns = ['decade','ae','number_of_docs','appears_cnt']"
   ]
  },
  {
   "cell_type": "code",
   "execution_count": null,
   "metadata": {},
   "outputs": [],
   "source": [
    "idx = ae_docDF_agg_chart_data.groupby('decade')['number_of_docs'].nlargest(10).reset_index()['level_1'].values"
   ]
  },
  {
   "cell_type": "code",
   "execution_count": null,
   "metadata": {},
   "outputs": [],
   "source": [
    "ae_docDF_agg_chart_data_f = ae_docDF_agg_chart_data[ae_docDF_agg_chart_data.index.isin(idx)]"
   ]
  },
  {
   "cell_type": "code",
   "execution_count": null,
   "metadata": {},
   "outputs": [],
   "source": [
    "ae_docDF_agg_chart_data_all = ae_docDF_agg_chart_data.groupby(['ae']).agg({'number_of_docs':'sum',\n",
    "                                             'appears_cnt':'sum'}).reset_index()\n",
    "\n",
    "ae_docDF_agg_chart_data_all_f = ae_docDF_agg_chart_data_all.sort_values('number_of_docs', ascending = False).head(10)\n",
    "ae_docDF_agg_chart_data_all_f['decade'] = 'all_decades'\n",
    "ae_docDF_agg_chart_data_all_f = ae_docDF_agg_chart_data_all_f[['decade','ae','number_of_docs','appears_cnt']]"
   ]
  },
  {
   "cell_type": "code",
   "execution_count": null,
   "metadata": {},
   "outputs": [],
   "source": [
    "ae_docDF_agg_chart_data_main = pd.concat([ae_docDF_agg_chart_data_f,ae_docDF_agg_chart_data_all_f])"
   ]
  },
  {
   "cell_type": "code",
   "execution_count": null,
   "metadata": {},
   "outputs": [],
   "source": [
    "ae_docDF_agg_chart_data_main['decade'] = ae_docDF_agg_chart_data_main['decade'].astype(str)"
   ]
  },
  {
   "cell_type": "code",
   "execution_count": null,
   "metadata": {},
   "outputs": [],
   "source": [
    "ae_docDF_agg_chart_data_main = ae_docDF_agg_chart_data_main.sort_values(['decade','number_of_docs'], ascending = False)"
   ]
  },
  {
   "cell_type": "code",
   "execution_count": null,
   "metadata": {},
   "outputs": [],
   "source": [
    "ae_docDF_agg_chart_data_main.to_csv('/Users/josh.smitherman/Documents/openFDA/react/open.fda.gov/src/data/hist_doc_ae_decade.csv', index=None)"
   ]
  },
  {
   "cell_type": "code",
   "execution_count": null,
   "metadata": {},
   "outputs": [],
   "source": [
    "ae_docDF_agg_chart_data_main"
   ]
  },
  {
   "cell_type": "code",
   "execution_count": null,
   "metadata": {},
   "outputs": [],
   "source": [
    "ae_docDF_agg_chart_data_main.reset_index().to_json('/Users/josh.smitherman/Documents/openFDA/historic_docs/react_app/chartjsdemo/src/data/ae_docDF_agg_chart_data_main.json',\n",
    "                                    orient='split')"
   ]
  },
  {
   "cell_type": "code",
   "execution_count": null,
   "metadata": {},
   "outputs": [],
   "source": [
    "ae_docDF_agg.to_csv('./demo_data/ae_docDF_agg.csv')"
   ]
  },
  {
   "cell_type": "code",
   "execution_count": null,
   "metadata": {},
   "outputs": [],
   "source": [
    "decade_ae_docDF_agg_agg = ae_docDF_agg.groupby(['decade','ae']).agg({'appears_cnt':'sum'}).reset_index()\n",
    "decade_ae_docDF_agg_agg = decade_ae_docDF_agg_agg.sort_values('decade', ascending = True)"
   ]
  },
  {
   "cell_type": "code",
   "execution_count": null,
   "metadata": {},
   "outputs": [],
   "source": [
    "decade_ae_docDF_agg_agg.sort_values('appears_cnt', ascending = False).head(10)"
   ]
  },
  {
   "cell_type": "markdown",
   "metadata": {},
   "source": [
    "# Text Processing"
   ]
  },
  {
   "cell_type": "code",
   "execution_count": null,
   "metadata": {},
   "outputs": [],
   "source": [
    "import gensim\n",
    "from gensim.utils import simple_preprocess\n",
    "from gensim.parsing.preprocessing import STOPWORDS\n",
    "from nltk.stem import WordNetLemmatizer, SnowballStemmer\n",
    "from nltk.stem.porter import *\n",
    "import nltk.stem as stemmer\n",
    "import numpy as np\n",
    "np.random.seed(2018)\n",
    "import nltk"
   ]
  },
  {
   "cell_type": "code",
   "execution_count": null,
   "metadata": {},
   "outputs": [],
   "source": [
    "#nltk.download('wordnet')\n",
    "#nltk.download('stopwords')\n",
    "#nltk.download('words')\n",
    "#nltk.download('averaged_perceptron_tagger')\n",
    "#nltk.download('universal_tagset')\n",
    "#nltk.download('punkt')\n",
    "from nltk.corpus import stopwords\n",
    "stop = stopwords.words('english')"
   ]
  },
  {
   "cell_type": "code",
   "execution_count": null,
   "metadata": {},
   "outputs": [],
   "source": [
    "words = set(nltk.corpus.words.words())\n",
    "words_lst = list(words)\n",
    "words_lst = [x.lower() for x in words_lst]"
   ]
  },
  {
   "cell_type": "code",
   "execution_count": null,
   "metadata": {},
   "outputs": [],
   "source": [
    "stemmer = SnowballStemmer('english')"
   ]
  },
  {
   "cell_type": "code",
   "execution_count": null,
   "metadata": {},
   "outputs": [],
   "source": [
    "documents = df_main.groupby(['file_name'])['use_word_c'].apply(lambda x: ','.join(x)).reset_index()"
   ]
  },
  {
   "cell_type": "code",
   "execution_count": null,
   "metadata": {},
   "outputs": [],
   "source": [
    "documents.head()"
   ]
  },
  {
   "cell_type": "code",
   "execution_count": null,
   "metadata": {},
   "outputs": [],
   "source": [
    "def lemmatize_stemming(text):\n",
    "    return stemmer.stem(WordNetLemmatizer().lemmatize(text, pos='v'))\n",
    "\n",
    "def preprocess(text):\n",
    "    result = []\n",
    "    for token in gensim.utils.simple_preprocess(text):\n",
    "        if token not in gensim.parsing.preprocessing.STOPWORDS and len(token) > 3:\n",
    "            result.append(lemmatize_stemming(token))\n",
    "    return result\n",
    "\n",
    "def remove_stops(row):\n",
    "    more_words = [\"the\", \"for\", \"of\", \"a\", \"or\", \"and\", \"nor\", \"but\", \"so\", \"was\", \"that\", \"year\", \"drug\",\n",
    "                  \"treatment\", \"\"]\n",
    "    remove_words = stop + more_words\n",
    "    my_list = row['use_word_c']\n",
    "    my_list = my_list.str.replace(r'[^\\w\\s]+', ' ')\n",
    "    my_list = my_list.str.replace('\\d+', '')\n",
    "    my_list = my_list.str.replace(r'\\b\\w\\b','').str.replace(r'\\s+', ' ') ## remove single letter words\n",
    "    meaningful_words = [w for w in my_list if not w in remove_words]\n",
    "    return (meaningful_words)"
   ]
  },
  {
   "cell_type": "code",
   "execution_count": null,
   "metadata": {},
   "outputs": [],
   "source": [
    "documents['use_word_c'] = remove_stops(documents)"
   ]
  },
  {
   "cell_type": "code",
   "execution_count": null,
   "metadata": {},
   "outputs": [],
   "source": [
    "df_topic_main = pd.DataFrame(columns = ['file_name','use_word_c','word_count'])"
   ]
  },
  {
   "cell_type": "code",
   "execution_count": null,
   "metadata": {},
   "outputs": [],
   "source": [
    "for index, row in documents.iterrows():\n",
    "    file_name = row['file_name']\n",
    "    lst = list(documents[documents['file_name']==file_name]['use_word_c'].str.split(' ').values)[0]\n",
    "    df_topic = pd.DataFrame({'file_name':file_name,\n",
    "                             'use_word_c':lst})\n",
    "    df_topic = df_topic.groupby(['file_name','use_word_c']).size().reset_index(name = 'word_count')\n",
    "    df_topic = df_topic.sort_values('word_count', ascending = False)\n",
    "    df_topic['stop_word'] = np.where(df_topic['use_word_c'].isin(stop),1,0)\n",
    "    df_topic = df_topic[df_topic['stop_word']==0].reset_index()\n",
    "    df_topic = df_topic[df_topic['use_word_c']!='']\n",
    "    df_topic_main = df_topic_main.append(df_topic[['file_name','use_word_c','word_count']])"
   ]
  },
  {
   "cell_type": "code",
   "execution_count": null,
   "metadata": {},
   "outputs": [],
   "source": [
    "df_topic_main.shape"
   ]
  },
  {
   "cell_type": "code",
   "execution_count": null,
   "metadata": {},
   "outputs": [],
   "source": [
    "pos_tag = []\n",
    "for index, row in df_topic_main.iterrows():\n",
    "    term = row['use_word_c']\n",
    "    text = nltk.word_tokenize(term)\n",
    "    term_lst_pos = nltk.pos_tag(text)\n",
    "    term_lst_pos = term_lst_pos[0]\n",
    "    pos_tag.append(term_lst_pos)\n",
    "    print(row['file_name'])"
   ]
  },
  {
   "cell_type": "code",
   "execution_count": null,
   "metadata": {},
   "outputs": [],
   "source": [
    "pos_tag_df = pd.DataFrame(pos_tag)\n",
    "pos_tag_df.columns = ['use_word_c','pos_tag']"
   ]
  },
  {
   "cell_type": "code",
   "execution_count": null,
   "metadata": {},
   "outputs": [],
   "source": [
    "df_topic_main = df_topic_main.merge(pos_tag_df, on = 'use_word_c', how = 'left')"
   ]
  },
  {
   "cell_type": "code",
   "execution_count": null,
   "metadata": {},
   "outputs": [],
   "source": [
    "df_topic_main.groupby('pos_tag').agg({'word_count':'sum'}).reset_index().sort_values('word_count',ascending = False)"
   ]
  },
  {
   "cell_type": "code",
   "execution_count": null,
   "metadata": {},
   "outputs": [],
   "source": [
    "df_topic_noun_type = df_topic_main[df_topic_main['pos_tag'].isin(['NN','NNS'])]"
   ]
  },
  {
   "cell_type": "code",
   "execution_count": null,
   "metadata": {},
   "outputs": [],
   "source": [
    "df_topic_noun_type = df_topic_noun_type.groupby(['file_name','use_word_c','pos_tag']).size().reset_index(name = 'cnt')"
   ]
  },
  {
   "cell_type": "code",
   "execution_count": null,
   "metadata": {},
   "outputs": [],
   "source": [
    "common_words_remove_lst = ['food','department','ee','bureau','use', 'press']"
   ]
  },
  {
   "cell_type": "code",
   "execution_count": null,
   "metadata": {},
   "outputs": [],
   "source": [
    "df_topic_noun_type_f = df_topic_noun_type[~df_topic_noun_type['use_word_c'].isin(common_words_remove_lst)]"
   ]
  },
  {
   "cell_type": "code",
   "execution_count": null,
   "metadata": {},
   "outputs": [],
   "source": [
    "characters_to_remove = \"!()@_~#$%^&*\""
   ]
  },
  {
   "cell_type": "code",
   "execution_count": null,
   "metadata": {},
   "outputs": [],
   "source": [
    "use_word_c_lst = []"
   ]
  },
  {
   "cell_type": "code",
   "execution_count": null,
   "metadata": {},
   "outputs": [],
   "source": [
    "for index, row in df_topic_noun_type_f.iterrows():\n",
    "    new_string = row['use_word_c']\n",
    "    for character in characters_to_remove:\n",
    "        new_string = new_string.replace(character, \"\")\n",
    "    use_word_c_lst.append(new_string)"
   ]
  },
  {
   "cell_type": "code",
   "execution_count": null,
   "metadata": {},
   "outputs": [],
   "source": [
    "df_topic_noun_type_f['use_word_c2'] = use_word_c_lst\n",
    "df_topic_noun_type_f['use_word_c2_len'] = df_topic_noun_type_f['use_word_c2'].str.len()\n",
    "df_topic_noun_type_f = df_topic_noun_type_f[df_topic_noun_type_f['use_word_c2_len']>2]"
   ]
  },
  {
   "cell_type": "code",
   "execution_count": null,
   "metadata": {},
   "outputs": [],
   "source": [
    "df_topic_noun_type_f['fist_letter'] = df_topic_noun_type_f['use_word_c2'].str[0]\n",
    "df_topic_noun_type_f['second_letter'] = df_topic_noun_type_f['use_word_c2'].str[1]\n",
    "df_topic_noun_type_f['filter'] = np.where(df_topic_noun_type_f['fist_letter']==df_topic_noun_type_f['second_letter'],1,0)\n",
    "df_topic_noun_type_f = df_topic_noun_type_f[df_topic_noun_type_f['filter']==0]"
   ]
  },
  {
   "cell_type": "code",
   "execution_count": null,
   "metadata": {},
   "outputs": [],
   "source": [
    "df_topic_noun_type_f = df_topic_noun_type_f.reset_index()"
   ]
  },
  {
   "cell_type": "code",
   "execution_count": null,
   "metadata": {},
   "outputs": [],
   "source": [
    "df_topic_noun_type_f.head(10)"
   ]
  },
  {
   "cell_type": "code",
   "execution_count": null,
   "metadata": {},
   "outputs": [],
   "source": [
    "import enchant"
   ]
  },
  {
   "cell_type": "code",
   "execution_count": null,
   "metadata": {},
   "outputs": [],
   "source": [
    "checker = enchant.Dict(\"en_US\")"
   ]
  },
  {
   "cell_type": "code",
   "execution_count": null,
   "metadata": {},
   "outputs": [],
   "source": [
    "spell_check_lst = []\n",
    "file_name_lst = []\n",
    "index_lst = []\n",
    "for index, row in df_topic_noun_type_f.iterrows():\n",
    "    txt = row['use_word_c2']\n",
    "    try:\n",
    "        spell_check_lst.append(checker.suggest(txt)[0])\n",
    "        file_name_lst.append(row['file_name'])\n",
    "        index_lst.append(row['index'])\n",
    "    except:\n",
    "        next"
   ]
  },
  {
   "cell_type": "code",
   "execution_count": null,
   "metadata": {},
   "outputs": [],
   "source": [
    "spell_check_df = pd.DataFrame({'index':index_lst,\n",
    "                               'file_name':file_name_lst,\n",
    "                               'use_word_c2_spell_check':spell_check_lst})"
   ]
  },
  {
   "cell_type": "code",
   "execution_count": null,
   "metadata": {},
   "outputs": [],
   "source": [
    "df_topic_noun_type_f = df_topic_noun_type_f.merge(spell_check_df, on =['index','file_name'], how = 'left')"
   ]
  },
  {
   "cell_type": "code",
   "execution_count": null,
   "metadata": {},
   "outputs": [],
   "source": [
    "df_topic_noun_type_f['equal_spell_check'] = np.where(df_topic_noun_type_f['use_word_c2']==df_topic_noun_type_f['use_word_c2_spell_check'],1,0)"
   ]
  },
  {
   "cell_type": "code",
   "execution_count": null,
   "metadata": {},
   "outputs": [],
   "source": [
    "import sklearn\n",
    "def get_jaccard_sim(str1, str2): \n",
    "    a = list(str1)\n",
    "    b = list(str2)\n",
    "    N = max(len(a),len(b))\n",
    "    a += [''] * (N - len(a))\n",
    "    b += [''] * (N - len(b))\n",
    "    return sklearn.metrics.jaccard_similarity_score(a, b)"
   ]
  },
  {
   "cell_type": "code",
   "execution_count": null,
   "metadata": {},
   "outputs": [],
   "source": [
    "sim_lst = []\n",
    "for index, row in df_topic_noun_type_f.iterrows():\n",
    "    use_word_c2 = str(df_topic_noun_type_f['use_word_c2'].iloc[index]).lower()\n",
    "    use_word_c2_spell_check = str(df_topic_noun_type_f['use_word_c2_spell_check'].iloc[index]).lower()\n",
    "    sim = get_jaccard_sim(use_word_c2,use_word_c2_spell_check)\n",
    "    sim_lst.append(sim)"
   ]
  },
  {
   "cell_type": "code",
   "execution_count": null,
   "metadata": {},
   "outputs": [],
   "source": [
    "df_topic_noun_type_f['sim_value'] = sim_lst"
   ]
  },
  {
   "cell_type": "code",
   "execution_count": null,
   "metadata": {},
   "outputs": [],
   "source": [
    "df_topic_noun_type_f['use_word_final'] = np.where(df_topic_noun_type_f['sim_value']>0.85,\n",
    "                                                  df_topic_noun_type_f['use_word_c2_spell_check'],\n",
    "                                                  df_topic_noun_type_f['use_word_c2'])"
   ]
  },
  {
   "cell_type": "code",
   "execution_count": null,
   "metadata": {},
   "outputs": [],
   "source": [
    "df_topic_noun_type_ff = df_topic_noun_type_f[df_topic_noun_type_f['sim_value']>=0.85]"
   ]
  },
  {
   "cell_type": "code",
   "execution_count": null,
   "metadata": {},
   "outputs": [],
   "source": [
    "df_topic_noun_type_ff"
   ]
  },
  {
   "cell_type": "code",
   "execution_count": null,
   "metadata": {},
   "outputs": [],
   "source": [
    "!pwd"
   ]
  },
  {
   "cell_type": "code",
   "execution_count": null,
   "metadata": {},
   "outputs": [],
   "source": [
    "df_topic_noun_type_ff.to_csv('./demo_data/df_topic_noun_type_ff.csv', index=False)"
   ]
  },
  {
   "cell_type": "code",
   "execution_count": null,
   "metadata": {},
   "outputs": [],
   "source": [
    "documents_pos = df_topic_noun_type_ff.groupby(['file_name'])['use_word_final'].apply(lambda x: ','.join(x)).reset_index()"
   ]
  },
  {
   "cell_type": "code",
   "execution_count": null,
   "metadata": {},
   "outputs": [],
   "source": [
    "documents_pos"
   ]
  },
  {
   "cell_type": "code",
   "execution_count": null,
   "metadata": {},
   "outputs": [],
   "source": [
    "print('original document: ')\n",
    "words = []\n",
    "for word in documents_pos['use_word_final'].str.split(' '):\n",
    "    words.append(word)\n",
    "print(words)\n",
    "print('\\n\\n tokenized and lemmatized document: ')\n",
    "print(preprocess(documents_pos['use_word_final']))"
   ]
  },
  {
   "cell_type": "code",
   "execution_count": null,
   "metadata": {},
   "outputs": [],
   "source": [
    "processed_docs = documents_pos['use_word_final'].map(preprocess)"
   ]
  },
  {
   "cell_type": "code",
   "execution_count": null,
   "metadata": {},
   "outputs": [],
   "source": [
    "documents_pos"
   ]
  },
  {
   "cell_type": "markdown",
   "metadata": {},
   "source": [
    "## Bag of Words on the Data set"
   ]
  },
  {
   "cell_type": "code",
   "execution_count": null,
   "metadata": {},
   "outputs": [],
   "source": [
    "dictionary = gensim.corpora.Dictionary(processed_docs)\n",
    "count = 0\n",
    "for k, v in dictionary.iteritems():\n",
    "    print(k, v)\n",
    "    count += 1\n",
    "    if count > 10:\n",
    "        break"
   ]
  },
  {
   "cell_type": "code",
   "execution_count": null,
   "metadata": {},
   "outputs": [],
   "source": [
    "dictionary.filter_extremes(no_below=1, no_above=0.1, keep_n=100000)"
   ]
  },
  {
   "cell_type": "code",
   "execution_count": null,
   "metadata": {},
   "outputs": [],
   "source": [
    "bow_corpus = [dictionary.doc2bow(doc) for doc in processed_docs]"
   ]
  },
  {
   "cell_type": "markdown",
   "metadata": {},
   "source": [
    "## TF-IDF"
   ]
  },
  {
   "cell_type": "code",
   "execution_count": null,
   "metadata": {},
   "outputs": [],
   "source": [
    "from gensim import corpora, models\n",
    "tfidf = models.TfidfModel(bow_corpus)\n",
    "corpus_tfidf = tfidf[bow_corpus]\n",
    "from pprint import pprint\n",
    "for doc in corpus_tfidf:\n",
    "    pprint(doc)\n",
    "    break"
   ]
  },
  {
   "cell_type": "markdown",
   "metadata": {},
   "source": [
    "## Running LDA using Bag of Words"
   ]
  },
  {
   "cell_type": "code",
   "execution_count": null,
   "metadata": {},
   "outputs": [],
   "source": [
    "lda_model = gensim.models.LdaMulticore(bow_corpus, num_topics=100, id2word=dictionary, passes=2, workers=2)"
   ]
  },
  {
   "cell_type": "code",
   "execution_count": null,
   "metadata": {},
   "outputs": [],
   "source": [
    "for idx, topic in lda_model.print_topics(-1):\n",
    "    print('Topic: {} \\nWords: {}'.format(idx, topic))"
   ]
  },
  {
   "cell_type": "code",
   "execution_count": null,
   "metadata": {},
   "outputs": [],
   "source": [
    "# Compute Coherence Score\n",
    "from gensim.models import CoherenceModel\n",
    "coherence_model_lda = CoherenceModel(model=lda_model, texts=bow_corpus, dictionary=dictionary, coherence='c_v')\n",
    "coherence_lda = coherence_model_lda.get_coherence()\n",
    "print('\\nCoherence Score: ', coherence_lda)"
   ]
  },
  {
   "cell_type": "code",
   "execution_count": null,
   "metadata": {},
   "outputs": [],
   "source": [
    "word_lst = []\n",
    "topic_lst = []"
   ]
  },
  {
   "cell_type": "code",
   "execution_count": null,
   "metadata": {},
   "outputs": [],
   "source": [
    "lda_model_tfidf"
   ]
  },
  {
   "cell_type": "code",
   "execution_count": null,
   "metadata": {},
   "outputs": [],
   "source": [
    "lda_model_tfidf.print_topics()"
   ]
  },
  {
   "cell_type": "code",
   "execution_count": null,
   "metadata": {},
   "outputs": [],
   "source": [
    "lda_model_tfidf = gensim.models.LdaMulticore(corpus_tfidf, num_topics=100, id2word=dictionary, passes=2, workers=4)\n",
    "for idx, topic in lda_model_tfidf.print_topics(-1):\n",
    "    word_lst.append(topic)\n",
    "    topic_lst.append(idx)\n",
    "    print('Topic: {} Word: {}'.format(idx, topic))"
   ]
  },
  {
   "cell_type": "markdown",
   "metadata": {},
   "source": [
    "## Finding the dominant topic in each sentence"
   ]
  },
  {
   "cell_type": "code",
   "execution_count": null,
   "metadata": {},
   "outputs": [],
   "source": [
    "def format_topics_sentences(ldamodel, corpus, texts):\n",
    "    # Init output\n",
    "    sent_topics_df = pd.DataFrame()\n",
    "\n",
    "    # Get main topic in each document\n",
    "    for i, row in enumerate(ldamodel[corpus]):\n",
    "        row = sorted(row, key=lambda x: (x[1]), reverse=True)\n",
    "        # Get the Dominant topic, Perc Contribution and Keywords for each document\n",
    "        for j, (topic_num, prop_topic) in enumerate(row):\n",
    "            if j == 0:  # => dominant topic\n",
    "                wp = ldamodel.show_topic(topic_num)\n",
    "                topic_keywords = \", \".join([word for word, prop in wp])\n",
    "                sent_topics_df = sent_topics_df.append(pd.Series([int(topic_num), round(prop_topic,4), topic_keywords]), ignore_index=True)\n",
    "            else:\n",
    "                break\n",
    "    sent_topics_df.columns = ['Dominant_Topic', 'Perc_Contribution', 'Topic_Keywords']\n",
    "\n",
    "    # Add original text to the end of the output\n",
    "    contents = pd.Series(texts)\n",
    "    sent_topics_df = pd.concat([sent_topics_df, contents], axis=1)\n",
    "    return(sent_topics_df)"
   ]
  },
  {
   "cell_type": "code",
   "execution_count": null,
   "metadata": {},
   "outputs": [],
   "source": [
    "df_topic_sents_keywords = format_topics_sentences(ldamodel=lda_model, \n",
    "                                                  corpus=bow_corpus, \n",
    "                                                  texts=documents['use_word_c'].values)"
   ]
  },
  {
   "cell_type": "code",
   "execution_count": null,
   "metadata": {},
   "outputs": [],
   "source": [
    "df_topic_sents_keywords"
   ]
  },
  {
   "cell_type": "code",
   "execution_count": null,
   "metadata": {},
   "outputs": [],
   "source": [
    "documents['Topic_Keywords'] = df_topic_sents_keywords['Topic_Keywords']"
   ]
  },
  {
   "cell_type": "code",
   "execution_count": null,
   "metadata": {},
   "outputs": [],
   "source": [
    "documents.to_csv('./demo_data/documents.csv', index=False)"
   ]
  },
  {
   "cell_type": "code",
   "execution_count": null,
   "metadata": {},
   "outputs": [],
   "source": [
    "documents"
   ]
  },
  {
   "cell_type": "code",
   "execution_count": null,
   "metadata": {},
   "outputs": [],
   "source": [
    "df_main = df_main.merge(documents[['file_name','Topic_Keywords']], on = 'file_name', how = 'left')"
   ]
  },
  {
   "cell_type": "code",
   "execution_count": null,
   "metadata": {},
   "outputs": [],
   "source": [
    "df_main"
   ]
  },
  {
   "cell_type": "code",
   "execution_count": null,
   "metadata": {},
   "outputs": [],
   "source": [
    "df_main.shape"
   ]
  },
  {
   "cell_type": "code",
   "execution_count": null,
   "metadata": {},
   "outputs": [],
   "source": [
    "documents.shape"
   ]
  },
  {
   "cell_type": "code",
   "execution_count": null,
   "metadata": {},
   "outputs": [],
   "source": []
  }
 ],
 "metadata": {
  "kernelspec": {
   "display_name": "env_img_fda",
   "language": "python",
   "name": "env_img_fda"
  },
  "language_info": {
   "codemirror_mode": {
    "name": "ipython",
    "version": 3
   },
   "file_extension": ".py",
   "mimetype": "text/x-python",
   "name": "python",
   "nbconvert_exporter": "python",
   "pygments_lexer": "ipython3",
   "version": "3.7.3"
  }
 },
 "nbformat": 4,
 "nbformat_minor": 2
}
